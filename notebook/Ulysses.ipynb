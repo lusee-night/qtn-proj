{
 "cells": [
  {
   "cell_type": "code",
   "execution_count": 1,
   "id": "17578016",
   "metadata": {},
   "outputs": [],
   "source": [
    "import sys\n",
    "sys.path.append(\"..\")\n",
    "from qtn.bimax import BiMax\n",
    "from qtn.util import (boltzmann, emass, echarge, permittivity, cspeed, fperp, fp)\n",
    "import numpy as np\n",
    "import matplotlib.pyplot as plt\n",
    "%matplotlib inline"
   ]
  },
  {
   "cell_type": "markdown",
   "id": "1f2be57d",
   "metadata": {},
   "source": [
    "### Issautier 1999 Fig 1"
   ]
  },
  {
   "cell_type": "markdown",
   "id": "cac11fe0",
   "metadata": {},
   "source": [
    "###### $f_p=15kHz$, $L_{dc}=v_{Tc}/\\sqrt{2}\\omega_{pc}=13.06m$"
   ]
  },
  {
   "cell_type": "code",
   "execution_count": 2,
   "id": "184606dd",
   "metadata": {},
   "outputs": [],
   "source": [
    "tc = 1e5\n",
    "n = 0\n",
    "tep = 2\n",
    "vsw = 8e5\n",
    "wrange = np.arange(0.2, 3.2, 0.1)\n",
    "lrange = [0.5, 1, 3.5, 10]"
   ]
  },
  {
   "cell_type": "code",
   "execution_count": 3,
   "id": "61521064",
   "metadata": {},
   "outputs": [],
   "source": [
    "ant_len = 10\n",
    "ant_rad = 1e-2\n",
    "base_cap = 50e-12\n",
    "p = BiMax(ant_len, ant_rad, base_cap)"
   ]
  },
  {
   "cell_type": "code",
   "execution_count": 4,
   "id": "cde09283",
   "metadata": {},
   "outputs": [
    {
     "ename": "TypeError",
     "evalue": "proton() missing 2 required positional arguments: 'tc' and 'vsw'",
     "output_type": "error",
     "traceback": [
      "\u001b[0;31m---------------------------------------------------------------------------\u001b[0m",
      "\u001b[0;31mTypeError\u001b[0m                                 Traceback (most recent call last)",
      "\u001b[0;32m/tmp/ipykernel_3902563/2691132157.py\u001b[0m in \u001b[0;36m<module>\u001b[0;34m\u001b[0m\n\u001b[0;32m----> 1\u001b[0;31m \u001b[0mvp2\u001b[0m \u001b[0;34m=\u001b[0m \u001b[0;34m[\u001b[0m\u001b[0;34m[\u001b[0m\u001b[0mp\u001b[0m\u001b[0;34m.\u001b[0m\u001b[0mproton\u001b[0m\u001b[0;34m(\u001b[0m\u001b[0mwc\u001b[0m\u001b[0;34m,\u001b[0m \u001b[0mlrel\u001b[0m\u001b[0;34m,\u001b[0m \u001b[0mtep\u001b[0m\u001b[0;34m,\u001b[0m \u001b[0mtc\u001b[0m\u001b[0;34m,\u001b[0m \u001b[0mvsw\u001b[0m\u001b[0;34m)\u001b[0m \u001b[0;34m/\u001b[0m \u001b[0mnp\u001b[0m\u001b[0;34m.\u001b[0m\u001b[0msqrt\u001b[0m\u001b[0;34m(\u001b[0m\u001b[0mtc\u001b[0m\u001b[0;34m)\u001b[0m \u001b[0;32mfor\u001b[0m \u001b[0mwc\u001b[0m \u001b[0;32min\u001b[0m \u001b[0mwrange\u001b[0m\u001b[0;34m]\u001b[0m \u001b[0;32mfor\u001b[0m \u001b[0mlrel\u001b[0m \u001b[0;32min\u001b[0m \u001b[0mlrange\u001b[0m\u001b[0;34m]\u001b[0m\u001b[0;34m\u001b[0m\u001b[0;34m\u001b[0m\u001b[0m\n\u001b[0m",
      "\u001b[0;32m/tmp/ipykernel_3902563/2691132157.py\u001b[0m in \u001b[0;36m<listcomp>\u001b[0;34m(.0)\u001b[0m\n\u001b[0;32m----> 1\u001b[0;31m \u001b[0mvp2\u001b[0m \u001b[0;34m=\u001b[0m \u001b[0;34m[\u001b[0m\u001b[0;34m[\u001b[0m\u001b[0mp\u001b[0m\u001b[0;34m.\u001b[0m\u001b[0mproton\u001b[0m\u001b[0;34m(\u001b[0m\u001b[0mwc\u001b[0m\u001b[0;34m,\u001b[0m \u001b[0mlrel\u001b[0m\u001b[0;34m,\u001b[0m \u001b[0mtep\u001b[0m\u001b[0;34m,\u001b[0m \u001b[0mtc\u001b[0m\u001b[0;34m,\u001b[0m \u001b[0mvsw\u001b[0m\u001b[0;34m)\u001b[0m \u001b[0;34m/\u001b[0m \u001b[0mnp\u001b[0m\u001b[0;34m.\u001b[0m\u001b[0msqrt\u001b[0m\u001b[0;34m(\u001b[0m\u001b[0mtc\u001b[0m\u001b[0;34m)\u001b[0m \u001b[0;32mfor\u001b[0m \u001b[0mwc\u001b[0m \u001b[0;32min\u001b[0m \u001b[0mwrange\u001b[0m\u001b[0;34m]\u001b[0m \u001b[0;32mfor\u001b[0m \u001b[0mlrel\u001b[0m \u001b[0;32min\u001b[0m \u001b[0mlrange\u001b[0m\u001b[0;34m]\u001b[0m\u001b[0;34m\u001b[0m\u001b[0;34m\u001b[0m\u001b[0m\n\u001b[0m",
      "\u001b[0;32m/tmp/ipykernel_3902563/2691132157.py\u001b[0m in \u001b[0;36m<listcomp>\u001b[0;34m(.0)\u001b[0m\n\u001b[0;32m----> 1\u001b[0;31m \u001b[0mvp2\u001b[0m \u001b[0;34m=\u001b[0m \u001b[0;34m[\u001b[0m\u001b[0;34m[\u001b[0m\u001b[0mp\u001b[0m\u001b[0;34m.\u001b[0m\u001b[0mproton\u001b[0m\u001b[0;34m(\u001b[0m\u001b[0mwc\u001b[0m\u001b[0;34m,\u001b[0m \u001b[0mlrel\u001b[0m\u001b[0;34m,\u001b[0m \u001b[0mtep\u001b[0m\u001b[0;34m,\u001b[0m \u001b[0mtc\u001b[0m\u001b[0;34m,\u001b[0m \u001b[0mvsw\u001b[0m\u001b[0;34m)\u001b[0m \u001b[0;34m/\u001b[0m \u001b[0mnp\u001b[0m\u001b[0;34m.\u001b[0m\u001b[0msqrt\u001b[0m\u001b[0;34m(\u001b[0m\u001b[0mtc\u001b[0m\u001b[0;34m)\u001b[0m \u001b[0;32mfor\u001b[0m \u001b[0mwc\u001b[0m \u001b[0;32min\u001b[0m \u001b[0mwrange\u001b[0m\u001b[0;34m]\u001b[0m \u001b[0;32mfor\u001b[0m \u001b[0mlrel\u001b[0m \u001b[0;32min\u001b[0m \u001b[0mlrange\u001b[0m\u001b[0;34m]\u001b[0m\u001b[0;34m\u001b[0m\u001b[0;34m\u001b[0m\u001b[0m\n\u001b[0m",
      "\u001b[0;31mTypeError\u001b[0m: proton() missing 2 required positional arguments: 'tc' and 'vsw'"
     ]
    }
   ],
   "source": [
    "vp2 = [[p.proton(wc, lrel, tep, tc, vsw) / np.sqrt(tc) for wc in wrange] for lrel in lrange]"
   ]
  },
  {
   "cell_type": "code",
   "execution_count": null,
   "id": "e3b139d5",
   "metadata": {},
   "outputs": [],
   "source": [
    "plt.rc('text', usetex=False)\n",
    "plt.rc('font', family='serif')\n",
    "fig = plt.figure(figsize=[3.5,9.6])\n",
    "for i in range(4):\n",
    "    plt.plot(wrange, np.array(vp2[i]), label=r'$l/l_d=$'+str(lrange[i]))\n",
    "plt.xscale('log');plt.yscale('log')\n",
    "plt.xlim([0.2, 3]);plt.ylim([5e-19, 1e-16])\n",
    "plt.xlabel(r'$f/f_p$')\n",
    "plt.ylabel(r'$V_p^2/Tc^{1/2}$')\n",
    "plt.title('Issautier et al. 1999, Fig 1(a)')\n",
    "plt.legend(loc='best')\n",
    "plt.show()"
   ]
  },
  {
   "cell_type": "code",
   "execution_count": null,
   "id": "ffe9703c",
   "metadata": {},
   "outputs": [],
   "source": [
    "fig.savefig('issautier_1999_fig_1b.png', dpi = 300)"
   ]
  },
  {
   "cell_type": "markdown",
   "id": "9b900f76",
   "metadata": {},
   "source": [
    "### Issautier et al. 1999 Fig5"
   ]
  },
  {
   "cell_type": "markdown",
   "id": "0dd2561b",
   "metadata": {},
   "source": [
    "###### Given $v_{sw}=453km/s$, $T_p=6\\times 10^4K$, $T_c=1.2\\times 10^5K$, $T_h/T_c=5$, $n_h/n_c=0.034$, $n_e=3.4cm^{-3}$ $$ $$ we obtain l"
   ]
  },
  {
   "cell_type": "code",
   "execution_count": null,
   "id": "045f2e69",
   "metadata": {},
   "outputs": [],
   "source": [
    "ne = 3.4e6\n",
    "n = 0.034\n",
    "t = 5\n",
    "nc = ne/(1+n)\n",
    "tep = 2\n",
    "vsw = 4.53e5\n",
    "fptot = fp(ne) # total plasma frequency"
   ]
  },
  {
   "cell_type": "markdown",
   "id": "00142ec2",
   "metadata": {},
   "source": [
    "###### The radio receiver on board Ulysses has monopole length $l=35m$, radius $r=1.1mm$. It linearly swept through 64 equally spaced frequncy channgels of bandwidth $0.75kHz$, covering 1.25 to 48.5kHz. "
   ]
  },
  {
   "cell_type": "code",
   "execution_count": null,
   "id": "c59b0a7d",
   "metadata": {},
   "outputs": [],
   "source": [
    "p = BiMax()"
   ]
  }
 ],
 "metadata": {
  "kernelspec": {
   "display_name": "Python 3 (ipykernel)",
   "language": "python",
   "name": "python3"
  },
  "language_info": {
   "codemirror_mode": {
    "name": "ipython",
    "version": 3
   },
   "file_extension": ".py",
   "mimetype": "text/x-python",
   "name": "python",
   "nbconvert_exporter": "python",
   "pygments_lexer": "ipython3",
   "version": "3.9.13"
  }
 },
 "nbformat": 4,
 "nbformat_minor": 1
}
