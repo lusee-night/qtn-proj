{
 "cells": [
  {
   "cell_type": "code",
   "execution_count": 1,
   "id": "b81e877a",
   "metadata": {},
   "outputs": [
    {
     "name": "stderr",
     "output_type": "stream",
     "text": [
      "/tmp/ipykernel_3902146/705426543.py:8: DeprecationWarning: Please use `readsav` from the `scipy.io` namespace, the `scipy.io.idl` namespace is deprecated.\n",
      "  from scipy.io.idl import readsav\n"
     ]
    }
   ],
   "source": [
    "import sys\n",
    "sys.path.append(\"..\")\n",
    "from qtn.bimax import BiMax\n",
    "from qtn.util import (boltzmann, emass, echarge, permittivity, cspeed, fperp, fp)\n",
    "import numpy as np\n",
    "import mpmath as mp\n",
    "import matplotlib.pyplot as plt\n",
    "from scipy.io.idl import readsav\n",
    "%matplotlib inline"
   ]
  },
  {
   "cell_type": "markdown",
   "id": "3a072c5e",
   "metadata": {},
   "source": [
    "### WIND/WAVES June 19 1995:18:52:35.344"
   ]
  },
  {
   "cell_type": "code",
   "execution_count": 2,
   "id": "eae228b9",
   "metadata": {},
   "outputs": [],
   "source": [
    "ant_len = 50      # m (monopole) \n",
    "ant_rad = 1.9e-4  # m\n",
    "base_cap = 20e-12 # Fara\n",
    "fbins = np.array([4000*2**((2*i+1)/32) for i in range(96)])"
   ]
  },
  {
   "cell_type": "code",
   "execution_count": 3,
   "id": "e4fba367",
   "metadata": {},
   "outputs": [],
   "source": [
    "vsw=7.61e5 #m/s\n",
    "tc = 11.53 #eV\n",
    "t = 5.57 \n",
    "n = 0.059 \n",
    "ne = 6.13 #cc\n",
    "tp=47.49  #eV\n",
    "fpe = 22.24e3  #Hz"
   ]
  },
  {
   "cell_type": "code",
   "execution_count": 4,
   "id": "ec173ba3",
   "metadata": {},
   "outputs": [],
   "source": [
    "p = BiMax(ant_len, ant_rad, base_cap)"
   ]
  },
  {
   "cell_type": "code",
   "execution_count": 5,
   "id": "525ae58a",
   "metadata": {},
   "outputs": [],
   "source": [
    "proton_noise = np.array([p.proton(f, ne, n, t, tp, tc, vsw) for f in fbins])"
   ]
  },
  {
   "cell_type": "code",
   "execution_count": 6,
   "id": "0d7baadd",
   "metadata": {},
   "outputs": [],
   "source": [
    "electron_noise = np.array([p.electron_noise(f, ne, n, t, tp, tc, vsw) for f in fbins])"
   ]
  },
  {
   "cell_type": "code",
   "execution_count": 7,
   "id": "45fbc6cd",
   "metadata": {},
   "outputs": [],
   "source": [
    "gain_shot = np.array([np.array(p.gain_shot(f, ne, n, t, tp, tc, vsw)) for f in fbins])"
   ]
  },
  {
   "cell_type": "code",
   "execution_count": 8,
   "id": "a686016c",
   "metadata": {},
   "outputs": [],
   "source": [
    "gain = gain_shot[:,0]\n",
    "shot_noise = gain_shot[:, 1]"
   ]
  },
  {
   "cell_type": "code",
   "execution_count": 9,
   "id": "4e479f71",
   "metadata": {},
   "outputs": [
    {
     "name": "stderr",
     "output_type": "stream",
     "text": [
      "/tmp/ipykernel_3902146/251538259.py:1: DeprecationWarning: Please use `readsav` from the `scipy.io` namespace, the `scipy.io.idl` namespace is deprecated.\n",
      "  from scipy.io.idl import readsav\n"
     ]
    }
   ],
   "source": [
    "from scipy.io.idl import readsav"
   ]
  },
  {
   "cell_type": "code",
   "execution_count": 10,
   "id": "be001ffc",
   "metadata": {},
   "outputs": [
    {
     "ename": "FileNotFoundError",
     "evalue": "[Errno 2] No such file or directory: '/Users/tongyuguang/Google Drive/research/data/meudon_tnr/TNR_XY_ACE_19950619.sav'",
     "output_type": "error",
     "traceback": [
      "\u001b[0;31m---------------------------------------------------------------------------\u001b[0m",
      "\u001b[0;31mFileNotFoundError\u001b[0m                         Traceback (most recent call last)",
      "\u001b[0;32m/tmp/ipykernel_3902146/2323502743.py\u001b[0m in \u001b[0;36m<module>\u001b[0;34m\u001b[0m\n\u001b[0;32m----> 1\u001b[0;31m \u001b[0mm_dat\u001b[0m\u001b[0;34m=\u001b[0m\u001b[0mreadsav\u001b[0m\u001b[0;34m(\u001b[0m\u001b[0;34m'/Users/tongyuguang/Google Drive/research/data/meudon_tnr/TNR_XY_ACE_19950619.sav'\u001b[0m\u001b[0;34m)\u001b[0m\u001b[0;34m\u001b[0m\u001b[0;34m\u001b[0m\u001b[0m\n\u001b[0m",
      "\u001b[0;32m~/Local/anaconda3/lib/python3.9/site-packages/scipy/io/_idl.py\u001b[0m in \u001b[0;36mreadsav\u001b[0;34m(file_name, idict, python_dict, uncompressed_file_name, verbose)\u001b[0m\n\u001b[1;32m    750\u001b[0m \u001b[0;34m\u001b[0m\u001b[0m\n\u001b[1;32m    751\u001b[0m     \u001b[0;31m# Open the IDL file\u001b[0m\u001b[0;34m\u001b[0m\u001b[0;34m\u001b[0m\u001b[0m\n\u001b[0;32m--> 752\u001b[0;31m     \u001b[0mf\u001b[0m \u001b[0;34m=\u001b[0m \u001b[0mopen\u001b[0m\u001b[0;34m(\u001b[0m\u001b[0mfile_name\u001b[0m\u001b[0;34m,\u001b[0m \u001b[0;34m'rb'\u001b[0m\u001b[0;34m)\u001b[0m\u001b[0;34m\u001b[0m\u001b[0;34m\u001b[0m\u001b[0m\n\u001b[0m\u001b[1;32m    753\u001b[0m \u001b[0;34m\u001b[0m\u001b[0m\n\u001b[1;32m    754\u001b[0m     \u001b[0;31m# Read the signature, which should be 'SR'\u001b[0m\u001b[0;34m\u001b[0m\u001b[0;34m\u001b[0m\u001b[0m\n",
      "\u001b[0;31mFileNotFoundError\u001b[0m: [Errno 2] No such file or directory: '/Users/tongyuguang/Google Drive/research/data/meudon_tnr/TNR_XY_ACE_19950619.sav'"
     ]
    }
   ],
   "source": [
    "m_dat=readsav('/Users/tongyuguang/Google Drive/research/data/meudon_tnr/TNR_XY_ACE_19950619.sav')"
   ]
  },
  {
   "cell_type": "code",
   "execution_count": null,
   "id": "708bab9a",
   "metadata": {},
   "outputs": [],
   "source": [
    "m_data=m_dat['data']\n",
    "mt = m_data['timeur8'][0]\n",
    "mtag = m_data['time'][0]"
   ]
  },
  {
   "cell_type": "code",
   "execution_count": null,
   "id": "02729704",
   "metadata": {},
   "outputs": [],
   "source": [
    "mtag[15267]"
   ]
  },
  {
   "cell_type": "code",
   "execution_count": null,
   "id": "aef0f1e2",
   "metadata": {},
   "outputs": [],
   "source": [
    "spec = m_data['spectra'][0][:, 15266]\n",
    "spec = 10. ** (spec/10.)"
   ]
  },
  {
   "cell_type": "code",
   "execution_count": null,
   "id": "9fa87f79",
   "metadata": {},
   "outputs": [],
   "source": [
    "plt.rc('text', usetex=False)\n",
    "plt.rc('font', family='serif')\n",
    "fig = plt.figure(figsize=[6, 6])\n",
    "plt.plot(fbins/1000, (electron_noise + proton_noise + shot_noise)/gain, label='theory')\n",
    "plt.plot(fbins/1000, spec, 'o', markersize=2, label='WIND data')\n",
    "plt.plot(fbins/1000, electron_noise/gain,'--', label='electron')\n",
    "plt.plot(fbins/1000, proton_noise/gain, '-.', label='proton')\n",
    "plt.plot(fbins/1000, shot_noise/gain, '--', label='shot')\n",
    "plt.xscale('log')\n",
    "plt.yscale('log')\n",
    "plt.xlim([4, 256])\n",
    "plt.ylim([1e-18, 1e-10])\n",
    "plt.xlabel(r'$f[kHz]$')\n",
    "plt.ylabel(r'$V_r^2[V^2Hz^{-1}]$')\n",
    "plt.title('19-JUN-1995, 18:52:32.400')\n",
    "plt.legend(loc='best')\n",
    "plt.show()"
   ]
  },
  {
   "cell_type": "code",
   "execution_count": null,
   "id": "00c1a9a9",
   "metadata": {},
   "outputs": [],
   "source": [
    "fig.savefig('wind1.png', dpi=300)"
   ]
  },
  {
   "cell_type": "markdown",
   "id": "899ca9ff",
   "metadata": {},
   "source": [
    "###### save data to file"
   ]
  },
  {
   "cell_type": "code",
   "execution_count": null,
   "id": "e3834707",
   "metadata": {},
   "outputs": [],
   "source": [
    "np.savez('619_data', p_noise=proton_noise, e_noise = electron_noise, s_noise = shot_noise, gain = gain)"
   ]
  },
  {
   "cell_type": "code",
   "execution_count": null,
   "id": "5a8565cc",
   "metadata": {},
   "outputs": [],
   "source": [
    "c=np.load('619_data.npz')\n",
    "c.files"
   ]
  },
  {
   "cell_type": "markdown",
   "id": "5c550db8",
   "metadata": {},
   "source": [
    "### WIND/WAVES June 25 1995:06:33:06.432"
   ]
  },
  {
   "cell_type": "code",
   "execution_count": null,
   "id": "57f05ac4",
   "metadata": {},
   "outputs": [],
   "source": [
    "ant_len = 50      # m (monopole) \n",
    "ant_rad = 1.9e-4  # m\n",
    "base_cap = 20e-12 # Fara\n",
    "fbins = np.array([4000*2**((2*i+1)/32) for i in range(96)])\n",
    "\n",
    "ne = 12.28\n",
    "vsw=3.966e5\n",
    "tc = 9.91\n",
    "tp = 9.62\n",
    "t = 6.57\n",
    "n = 0.026\n",
    "fpe = 31.47e3"
   ]
  },
  {
   "cell_type": "code",
   "execution_count": null,
   "id": "f25802d6",
   "metadata": {},
   "outputs": [],
   "source": [
    "p = BiMax(ant_len, ant_rad, base_cap)"
   ]
  },
  {
   "cell_type": "code",
   "execution_count": null,
   "id": "6282dc6f",
   "metadata": {},
   "outputs": [],
   "source": [
    "proton_noise = np.array([p.proton(f, ne, n, t, tp, tc, vsw) for f in fbins])"
   ]
  },
  {
   "cell_type": "code",
   "execution_count": null,
   "id": "47d8b583",
   "metadata": {},
   "outputs": [],
   "source": [
    "def helper(f, fpe):\n",
    "    \"\"\"\n",
    "    add precision control to bimax function.\n",
    "    \n",
    "    \"\"\"\n",
    "    if f > .99*fpe and f < 1.2*fpe:\n",
    "        mp.mp.dps = 40\n",
    "    else:\n",
    "        mp.mp.dps = 20\n",
    "    return p.electron_noise(f, ne, n, t, tp, tc, vsw)"
   ]
  },
  {
   "cell_type": "code",
   "execution_count": null,
   "id": "4266c0d1",
   "metadata": {},
   "outputs": [],
   "source": [
    "electron_noise = np.array([helper(f, fpe) for f in fbins])"
   ]
  },
  {
   "cell_type": "code",
   "execution_count": null,
   "id": "4ecae830",
   "metadata": {},
   "outputs": [],
   "source": [
    "gain_shot = np.array([np.array(p.gain_shot(f, ne, n, t, tp, tc, vsw)) for f in fbins])"
   ]
  },
  {
   "cell_type": "code",
   "execution_count": null,
   "id": "ef95f78c",
   "metadata": {},
   "outputs": [],
   "source": [
    "gain = gain_shot[:,0]\n",
    "shot_noise = gain_shot[:, 1]"
   ]
  },
  {
   "cell_type": "code",
   "execution_count": null,
   "id": "32a23ad3",
   "metadata": {},
   "outputs": [],
   "source": [
    "m_dat=readsav('/Users/tongyuguang/Google Drive/research/data/meudon_tnr/TNR_XY_ACE_19950625.sav')\n",
    "m_data=m_dat['data']\n",
    "mt = m_data['timeur8'][0]\n",
    "mtag = m_data['time'][0]"
   ]
  },
  {
   "cell_type": "code",
   "execution_count": null,
   "id": "f0a6cbbc",
   "metadata": {},
   "outputs": [],
   "source": [
    "mtag[5223]"
   ]
  },
  {
   "cell_type": "code",
   "execution_count": null,
   "id": "f594ecbb",
   "metadata": {},
   "outputs": [],
   "source": [
    " "
   ]
  },
  {
   "cell_type": "code",
   "execution_count": null,
   "id": "b2af5061",
   "metadata": {},
   "outputs": [],
   "source": []
  },
  {
   "cell_type": "code",
   "execution_count": null,
   "id": "057f4c78",
   "metadata": {},
   "outputs": [],
   "source": [
    "plt.rc('text', usetex=False)\n",
    "plt.rc('font', family='serif')\n",
    "fig = plt.figure(figsize=[6, 6])\n",
    "plt.plot(fbins/1000, (electron_noise + proton_noise + shot_noise)/gain, label='theory')\n",
    "plt.plot(fbins/1000, spec, 'o', markersize=2, label='WIND data')\n",
    "plt.plot(fbins/1000, electron_noise/gain,'--', label='electron')\n",
    "plt.plot(fbins/1000, proton_noise/gain, '-.', label='proton')\n",
    "plt.plot(fbins/1000, shot_noise/gain, '--', label='shot')\n",
    "plt.xscale('log')\n",
    "plt.yscale('log')\n",
    "plt.xlim([4, 256])\n",
    "plt.ylim([1e-18, 1e-10])\n",
    "plt.xlabel(r'$f[kHz]$')\n",
    "plt.ylabel(r'$V_r^2[V^2Hz^{-1}]$')\n",
    "plt.title('25-JUN-1995, 06:33:03.488')\n",
    "plt.legend(loc='best')\n",
    "plt.show()"
   ]
  },
  {
   "cell_type": "code",
   "execution_count": null,
   "id": "9c56843c",
   "metadata": {},
   "outputs": [],
   "source": [
    "fig.savefig('wind1.png', dpi=300)"
   ]
  },
  {
   "cell_type": "markdown",
   "id": "21181551",
   "metadata": {},
   "source": [
    "###### save data to file"
   ]
  },
  {
   "cell_type": "code",
   "execution_count": null,
   "id": "d6bc3463",
   "metadata": {},
   "outputs": [],
   "source": [
    "np.savez('625_data', p_noise=proton_noise, e_noise = electron_noise, s_noise = shot_noise, gain = gain)"
   ]
  },
  {
   "cell_type": "markdown",
   "id": "a71a4118",
   "metadata": {},
   "source": [
    "# Parallel/Perpendicular proton noise"
   ]
  },
  {
   "cell_type": "code",
   "execution_count": null,
   "id": "34189214",
   "metadata": {},
   "outputs": [],
   "source": [
    "from qtn.maxkappa import MaxKappa"
   ]
  },
  {
   "cell_type": "code",
   "execution_count": null,
   "id": "4f533545",
   "metadata": {},
   "outputs": [],
   "source": [
    "ant_len = 50      # m (monopole) \n",
    "ant_rad = 1.9e-4  # m\n",
    "base_cap = 20e-12 # Fara\n",
    "fbins = np.array([4000*2**((2*i+1)/32) for i in range(96)])\n",
    "\n",
    "ne = 12.28\n",
    "vsw=3.966e5\n",
    "tc = 9.91\n",
    "tp = 9.62\n",
    "t = 6.57\n",
    "n = 0.026\n",
    "fpe = 31.47e3\n",
    "k = 7"
   ]
  },
  {
   "cell_type": "code",
   "execution_count": null,
   "id": "f40b54d1",
   "metadata": {},
   "outputs": [],
   "source": [
    "fbins = np.array([4000*2**((2*i+1)/32) for i in range(96)])"
   ]
  },
  {
   "cell_type": "code",
   "execution_count": null,
   "id": "1b5eb91a",
   "metadata": {},
   "outputs": [],
   "source": [
    "p = MaxKappa(ant_len, ant_rad, base_cap)"
   ]
  },
  {
   "cell_type": "code",
   "execution_count": null,
   "id": "c4b57843",
   "metadata": {},
   "outputs": [],
   "source": [
    "proton_noise = np.array([p.proton(f, ne, n, t, tp, tc, k, vsw) for f in fbins])"
   ]
  },
  {
   "cell_type": "code",
   "execution_count": null,
   "id": "91a0300e",
   "metadata": {},
   "outputs": [],
   "source": [
    "proton_noise_par = np.array([p.proton_parallel(f, ne, n, t, tp, tc, k, vsw) for f in fbins])"
   ]
  },
  {
   "cell_type": "code",
   "execution_count": null,
   "id": "b5ab74bc",
   "metadata": {},
   "outputs": [],
   "source": [
    "proton_avg = 0.5*proton_noise + 0.5*proton_noise_par"
   ]
  },
  {
   "cell_type": "code",
   "execution_count": null,
   "id": "d0727156",
   "metadata": {},
   "outputs": [],
   "source": [
    "m_dat=readsav('/Users/tongyuguang/Google Drive/research/data/meudon_tnr/TNR_XY_ACE_19950625.sav')\n",
    "m_data=m_dat['data']\n",
    "mt = m_data['timeur8'][0]\n",
    "mtag = m_data['time'][0]"
   ]
  },
  {
   "cell_type": "code",
   "execution_count": null,
   "id": "525003c3",
   "metadata": {},
   "outputs": [],
   "source": [
    "spec = m_data['spectra'][0][:, 5223]\n",
    "spec = 10. ** (spec/10.)"
   ]
  },
  {
   "cell_type": "code",
   "execution_count": null,
   "id": "a60babe6",
   "metadata": {},
   "outputs": [],
   "source": [
    "plt.plot(fbins, proton_noise)\n",
    "plt.plot(fbins, proton_noise_par)\n",
    "plt.plot(fbins, proton_avg)\n",
    "plt.xscale('log')\n",
    "plt.yscale('log')\n",
    "plt.xlim([4e3, 256e3])\n",
    "plt.ylim([1e-18, 1e-10])\n",
    "plt.show()"
   ]
  },
  {
   "cell_type": "code",
   "execution_count": null,
   "id": "bf8e8362",
   "metadata": {},
   "outputs": [],
   "source": [
    "dat625 = np.load('data/625_bimax.npz')"
   ]
  },
  {
   "cell_type": "code",
   "execution_count": null,
   "id": "bdf28556",
   "metadata": {},
   "outputs": [],
   "source": [
    "dat625.files"
   ]
  },
  {
   "cell_type": "code",
   "execution_count": null,
   "id": "7698ae68",
   "metadata": {},
   "outputs": [],
   "source": [
    "s_noise = dat625['s_noise']\n",
    "gain = dat625['gain']\n",
    "e_noise = dat625['e_noise']"
   ]
  },
  {
   "cell_type": "code",
   "execution_count": null,
   "id": "d5a39c16",
   "metadata": {},
   "outputs": [],
   "source": [
    "fig = plt.figure(figsize=[6,6])\n",
    "plt.rc('text', usetex=True)\n",
    "plt.rc('font', family='serif')\n",
    "plt.plot(fbins, (s_noise + e_noise + proton_avg)/gain)\n",
    "plt.plot(fbins, (s_noise + e_noise + proton_noise)/gain)\n",
    "plt.plot(fbins, (s_noise + e_noise + proton_noise_par)/gain)\n",
    "plt.plot(fbins, spec)\n",
    "plt.xscale('log')\n",
    "plt.yscale('log')\n",
    "plt.xlim([4e3, 256e3])\n",
    "plt.ylim([1e-18, 1e-10])\n",
    "plt.annotate(\"{0}{1}\\n\".format(r'$\\sum x_i=$',5) + \"{0}{1}\".format(r'$\\sum x_i=$',5),xy=(0.05, 0.05), xycoords='axes fraction', fontsize=12)\n",
    "plt.show()"
   ]
  },
  {
   "cell_type": "markdown",
   "id": "f1cde573",
   "metadata": {},
   "source": [
    "# proton noise with angle dependence"
   ]
  },
  {
   "cell_type": "code",
   "execution_count": null,
   "id": "ec4da40d",
   "metadata": {},
   "outputs": [],
   "source": []
  }
 ],
 "metadata": {
  "kernelspec": {
   "display_name": "Python 3 (ipykernel)",
   "language": "python",
   "name": "python3"
  },
  "language_info": {
   "codemirror_mode": {
    "name": "ipython",
    "version": 3
   },
   "file_extension": ".py",
   "mimetype": "text/x-python",
   "name": "python",
   "nbconvert_exporter": "python",
   "pygments_lexer": "ipython3",
   "version": "3.9.13"
  }
 },
 "nbformat": 4,
 "nbformat_minor": 1
}
