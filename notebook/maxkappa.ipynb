{
 "cells": [
  {
   "cell_type": "code",
   "execution_count": 1,
   "id": "3d37c56e",
   "metadata": {},
   "outputs": [
    {
     "name": "stderr",
     "output_type": "stream",
     "text": [
      "/tmp/ipykernel_3902102/2188330759.py:11: DeprecationWarning: Please use `readsav` from the `scipy.io` namespace, the `scipy.io.idl` namespace is deprecated.\n",
      "  from scipy.io.idl import readsav\n"
     ]
    }
   ],
   "source": [
    "import sys\n",
    "sys.path.append(\"..\")\n",
    "from qtn.maxkappa import MaxKappa\n",
    "from qtn.bimax import BiMax\n",
    "from qtn.util import (boltzmann, emass, echarge, permittivity, cspeed)\n",
    "import mpmath as mp\n",
    "import numpy as np\n",
    "import matplotlib.pyplot as plt\n",
    "%matplotlib inline\n",
    "\n",
    "from scipy.io.idl import readsav"
   ]
  },
  {
   "cell_type": "code",
   "execution_count": 2,
   "id": "b1c60fb6",
   "metadata": {},
   "outputs": [],
   "source": [
    "pmass = 1.67262178e-27"
   ]
  },
  {
   "cell_type": "code",
   "execution_count": 3,
   "id": "4832382d",
   "metadata": {},
   "outputs": [],
   "source": [
    "ant_len = 50      # m (monopole) \n",
    "ant_rad = 1.9e-4  # m\n",
    "base_cap = 20e-12 # Fara\n",
    "fbins = np.array([4000*2**((2*i+1)/32) for i in range(96)])"
   ]
  },
  {
   "cell_type": "markdown",
   "id": "24bc15cc",
   "metadata": {},
   "source": [
    "### example1: 25-JUN-1995, 06:33:03.488"
   ]
  },
  {
   "cell_type": "code",
   "execution_count": 4,
   "id": "bc80dafe",
   "metadata": {},
   "outputs": [],
   "source": [
    "#vsw = 3.898e5 #m/s\n",
    "vsw = 397.00870e3\n",
    "#vp = 46.11e3 #m/s\n",
    "#tp = pmass * vp**2 / echarge/ 2\n",
    "#print(tp)\n",
    "tp = 5.6343741"
   ]
  },
  {
   "cell_type": "code",
   "execution_count": 5,
   "id": "7da909a2",
   "metadata": {},
   "outputs": [],
   "source": [
    "tc = (11.1439 + 10.8434 * 2)/3\n",
    "th = (55.4993 + 54.0091*2)/3\n",
    "t = th/tc\n",
    "nc = 12.2368\n",
    "nh = 0.376581\n",
    "n = nh/nc\n",
    "ne = nc + nh\n",
    "k = 7.55723\n",
    "fpe = np.sqrt(echarge**2 * ne * 1e6 /emass/permittivity)/2/np.pi"
   ]
  },
  {
   "cell_type": "code",
   "execution_count": 6,
   "id": "ed962531",
   "metadata": {},
   "outputs": [
    {
     "name": "stdout",
     "output_type": "stream",
     "text": [
      "4.48448905109489\n",
      "0.03842940685045948\n",
      "12.430000000000001\n",
      "31655.35792031372\n"
     ]
    }
   ],
   "source": [
    "tc = 10.96\n",
    "th = 49.15\n",
    "t = th/tc\n",
    "nc = 11.97\n",
    "nh = 0.46\n",
    "n = nh/nc\n",
    "ne = nc + nh\n",
    "k = 7.35\n",
    "fpe = np.sqrt(echarge**2 * ne * 1e6 /emass/permittivity)/2/np.pi\n",
    "print(t)\n",
    "print(n)\n",
    "print(ne)\n",
    "print(fpe)"
   ]
  },
  {
   "cell_type": "code",
   "execution_count": 7,
   "id": "43713d47",
   "metadata": {},
   "outputs": [],
   "source": [
    "p = MaxKappa(ant_len, ant_rad, base_cap)"
   ]
  },
  {
   "cell_type": "code",
   "execution_count": 8,
   "id": "7d79d508",
   "metadata": {},
   "outputs": [],
   "source": [
    "za_zr = np.array([np.array(p.impedance(f, ne, n, t, tp, tc, k, vsw)) for f in fbins])"
   ]
  },
  {
   "cell_type": "code",
   "execution_count": 9,
   "id": "ba6c12c9",
   "metadata": {},
   "outputs": [],
   "source": [
    "za = za_zr[:, 0]\n",
    "zr = za_zr[:, 1]"
   ]
  },
  {
   "cell_type": "code",
   "execution_count": 10,
   "id": "bca1a258",
   "metadata": {},
   "outputs": [],
   "source": [
    "gain = np.abs((za+zr)/zr)**2"
   ]
  },
  {
   "cell_type": "code",
   "execution_count": 11,
   "id": "e9da8835",
   "metadata": {},
   "outputs": [
    {
     "data": {
      "image/png": "[encoded data removed]",
      "text/plain": [
       "<Figure size 640x480 with 1 Axes>"
      ]
     },
     "metadata": {},
     "output_type": "display_data"
    }
   ],
   "source": [
    "plt.plot(gain)\n",
    "plt.show()"
   ]
  },
  {
   "cell_type": "code",
   "execution_count": 12,
   "id": "9dae4be9",
   "metadata": {},
   "outputs": [],
   "source": [
    "def helper(f):\n",
    "    if f < fpe or f > 1.2 * fpe:\n",
    "        mp.mp.dps = 20\n",
    "    else:\n",
    "        mp.mp.dps = 40\n",
    "    val = p.electron_noise(f, ne, n, t, tp, tc, k, vsw)\n",
    "    mp.mp.dps= 15\n",
    "    return val"
   ]
  },
  {
   "cell_type": "code",
   "execution_count": 13,
   "id": "555d6dde",
   "metadata": {},
   "outputs": [],
   "source": [
    "e_noise = np.array([helper(f) for f in fbins])"
   ]
  },
  {
   "cell_type": "code",
   "execution_count": 14,
   "id": "27e07a34",
   "metadata": {},
   "outputs": [],
   "source": [
    "p_noise = np.array([p.proton(f, ne, n, t, tp, tc, k, vsw) for f in fbins])"
   ]
  },
  {
   "cell_type": "code",
   "execution_count": 15,
   "id": "d381bf60",
   "metadata": {},
   "outputs": [],
   "source": [
    "def shot(za, sc_pot):\n",
    "    _vtc = np.sqrt(2 * echarge * tc/emass)\n",
    "    _nc = nc * 1e6\n",
    "    _ne = _nc * _vtc * (1 + n * mp.sqrt(t)) * 2 * np.pi * ant_rad * ant_len / np.sqrt(4 * np.pi)\n",
    "    A = 1 + echarge * sc_pot/tc\n",
    "    return 2 * A * echarge**2 * np.abs(za)**2 * _ne "
   ]
  },
  {
   "cell_type": "code",
   "execution_count": 16,
   "id": "7f89422a",
   "metadata": {},
   "outputs": [],
   "source": [
    "s_noise = np.array([shot(_za, 0) for _za in za])"
   ]
  },
  {
   "cell_type": "code",
   "execution_count": 17,
   "id": "863d11b9",
   "metadata": {},
   "outputs": [
    {
     "ename": "FileNotFoundError",
     "evalue": "[Errno 2] No such file or directory: '/Users/tongyuguang/Google Drive/research/data/meudon_tnr/TNR_XY_ACE_19950625.sav'",
     "output_type": "error",
     "traceback": [
      "\u001b[0;31m---------------------------------------------------------------------------\u001b[0m",
      "\u001b[0;31mFileNotFoundError\u001b[0m                         Traceback (most recent call last)",
      "\u001b[0;32m/tmp/ipykernel_3902102/1969996737.py\u001b[0m in \u001b[0;36m<module>\u001b[0;34m\u001b[0m\n\u001b[0;32m----> 1\u001b[0;31m \u001b[0mm_dat\u001b[0m\u001b[0;34m=\u001b[0m\u001b[0mreadsav\u001b[0m\u001b[0;34m(\u001b[0m\u001b[0;34m'/Users/tongyuguang/Google Drive/research/data/meudon_tnr/TNR_XY_ACE_19950625.sav'\u001b[0m\u001b[0;34m)\u001b[0m\u001b[0;34m\u001b[0m\u001b[0;34m\u001b[0m\u001b[0m\n\u001b[0m\u001b[1;32m      2\u001b[0m \u001b[0mm_data\u001b[0m\u001b[0;34m=\u001b[0m\u001b[0mm_dat\u001b[0m\u001b[0;34m[\u001b[0m\u001b[0;34m'data'\u001b[0m\u001b[0;34m]\u001b[0m\u001b[0;34m\u001b[0m\u001b[0;34m\u001b[0m\u001b[0m\n\u001b[1;32m      3\u001b[0m \u001b[0mmt\u001b[0m \u001b[0;34m=\u001b[0m \u001b[0mm_data\u001b[0m\u001b[0;34m[\u001b[0m\u001b[0;34m'timeur8'\u001b[0m\u001b[0;34m]\u001b[0m\u001b[0;34m[\u001b[0m\u001b[0;36m0\u001b[0m\u001b[0;34m]\u001b[0m\u001b[0;34m\u001b[0m\u001b[0;34m\u001b[0m\u001b[0m\n\u001b[1;32m      4\u001b[0m \u001b[0mmtag\u001b[0m \u001b[0;34m=\u001b[0m \u001b[0mm_data\u001b[0m\u001b[0;34m[\u001b[0m\u001b[0;34m'time'\u001b[0m\u001b[0;34m]\u001b[0m\u001b[0;34m[\u001b[0m\u001b[0;36m0\u001b[0m\u001b[0;34m]\u001b[0m\u001b[0;34m\u001b[0m\u001b[0;34m\u001b[0m\u001b[0m\n",
      "\u001b[0;32m~/Local/anaconda3/lib/python3.9/site-packages/scipy/io/_idl.py\u001b[0m in \u001b[0;36mreadsav\u001b[0;34m(file_name, idict, python_dict, uncompressed_file_name, verbose)\u001b[0m\n\u001b[1;32m    750\u001b[0m \u001b[0;34m\u001b[0m\u001b[0m\n\u001b[1;32m    751\u001b[0m     \u001b[0;31m# Open the IDL file\u001b[0m\u001b[0;34m\u001b[0m\u001b[0;34m\u001b[0m\u001b[0m\n\u001b[0;32m--> 752\u001b[0;31m     \u001b[0mf\u001b[0m \u001b[0;34m=\u001b[0m \u001b[0mopen\u001b[0m\u001b[0;34m(\u001b[0m\u001b[0mfile_name\u001b[0m\u001b[0;34m,\u001b[0m \u001b[0;34m'rb'\u001b[0m\u001b[0;34m)\u001b[0m\u001b[0;34m\u001b[0m\u001b[0;34m\u001b[0m\u001b[0m\n\u001b[0m\u001b[1;32m    753\u001b[0m \u001b[0;34m\u001b[0m\u001b[0m\n\u001b[1;32m    754\u001b[0m     \u001b[0;31m# Read the signature, which should be 'SR'\u001b[0m\u001b[0;34m\u001b[0m\u001b[0;34m\u001b[0m\u001b[0m\n",
      "\u001b[0;31mFileNotFoundError\u001b[0m: [Errno 2] No such file or directory: '/Users/tongyuguang/Google Drive/research/data/meudon_tnr/TNR_XY_ACE_19950625.sav'"
     ]
    }
   ],
   "source": [
    "m_dat=readsav('/Users/tongyuguang/Google Drive/research/data/meudon_tnr/TNR_XY_ACE_19950625.sav')\n",
    "m_data=m_dat['data']\n",
    "mt = m_data['timeur8'][0]\n",
    "mtag = m_data['time'][0]"
   ]
  },
  {
   "cell_type": "code",
   "execution_count": null,
   "id": "c4535e2a",
   "metadata": {},
   "outputs": [],
   "source": [
    "mtag[5223]"
   ]
  },
  {
   "cell_type": "code",
   "execution_count": null,
   "id": "545684cc",
   "metadata": {},
   "outputs": [],
   "source": [
    "spec = m_data['spectra'][0][:, 5223]\n",
    "spec = 10. ** (spec/10.)"
   ]
  },
  {
   "cell_type": "code",
   "execution_count": null,
   "id": "390e5729",
   "metadata": {},
   "outputs": [],
   "source": [
    "plt.rc('text', usetex=False)\n",
    "plt.rc('font', family='serif')\n",
    "fig = plt.figure(figsize=[6, 6])\n",
    "plt.plot(fbins/1000, (e_noise + p_noise + s_noise)/gain, label='theory/3dp fits')\n",
    "plt.plot(fbins/1000, spec, 'o', markersize=2, label='WIND TNR')\n",
    "plt.plot(fbins/1000, e_noise/gain,'--', label='electron')\n",
    "plt.plot(fbins/1000, p_noise/gain, '-.', label='proton')\n",
    "plt.plot(fbins/1000, s_noise/gain, '--', label='shot')\n",
    "plt.xscale('log')\n",
    "plt.yscale('log')\n",
    "plt.xlim([4, 256])\n",
    "plt.ylim([1e-18, 1e-10])\n",
    "plt.xlabel(r'$f[kHz]$')\n",
    "plt.ylabel(r'$V_r^2[V^2Hz^{-1}]$')\n",
    "plt.title('25-JUN-1995, 06:33:03.488')\n",
    "plt.legend(loc='best')\n",
    "plt.show()"
   ]
  },
  {
   "cell_type": "code",
   "execution_count": null,
   "id": "e5eabd69",
   "metadata": {},
   "outputs": [],
   "source": [
    "fig.savefig('wind1.png', dpi=300)"
   ]
  },
  {
   "cell_type": "code",
   "execution_count": null,
   "id": "54dfb19c",
   "metadata": {},
   "outputs": [],
   "source": [
    "np.savez('625_2_data', p_noise=p_noise, e_noise = e_noise, s_noise = s_noise, gain = gain, za = za, zr= zr)"
   ]
  },
  {
   "cell_type": "code",
   "execution_count": null,
   "id": "9a985a3a",
   "metadata": {},
   "outputs": [],
   "source": [
    "c=np.load('625_1_data.npz')\n",
    "c.files"
   ]
  },
  {
   "cell_type": "markdown",
   "id": "42281c96",
   "metadata": {},
   "source": [
    "### Example 2: 1995-06-19/18:52:35.344"
   ]
  },
  {
   "cell_type": "code",
   "execution_count": null,
   "id": "bb570e3a",
   "metadata": {},
   "outputs": [],
   "source": [
    "vsw = 754.408e3\n",
    "vsw = 1000e3\n",
    "#tp = 31.6888\n",
    "tp = 300\n",
    "tc = 10.7241\n",
    "th = 53.5818\n",
    "t = th/tc\n",
    "nc = 5.73674\n",
    "#nh = 0.309319\n",
    "netnr = 6.058\n",
    "nh = netnr - nc\n",
    "n = nh/nc\n",
    "ne = nc + nh\n",
    "k = 6.5519\n",
    "fpe = np.sqrt(echarge**2 * ne * 1e6 /emass/permittivity)/2/np.pi\n",
    "print(nh)\n",
    "print(t)\n",
    "print(n)\n",
    "print(ne)\n",
    "print(fpe)"
   ]
  },
  {
   "cell_type": "code",
   "execution_count": null,
   "id": "4e327be8",
   "metadata": {},
   "outputs": [],
   "source": [
    "p = MaxKappa(ant_len, ant_rad, base_cap)"
   ]
  },
  {
   "cell_type": "code",
   "execution_count": null,
   "id": "9a07a789",
   "metadata": {},
   "outputs": [],
   "source": [
    "za_zr = np.array([np.array(p.impedance(f, ne, n, t, tp, tc, k, vsw)) for f in fbins])"
   ]
  },
  {
   "cell_type": "code",
   "execution_count": null,
   "id": "99afc0d1",
   "metadata": {},
   "outputs": [],
   "source": [
    "za = za_zr[:, 0]\n",
    "zr = za_zr[:, 1]"
   ]
  },
  {
   "cell_type": "code",
   "execution_count": null,
   "id": "761d2acd",
   "metadata": {},
   "outputs": [],
   "source": [
    "gain = np.abs((za+zr)/zr)**2"
   ]
  },
  {
   "cell_type": "code",
   "execution_count": null,
   "id": "073a7ac7",
   "metadata": {},
   "outputs": [],
   "source": [
    "plt.plot(gain)\n",
    "plt.show()"
   ]
  },
  {
   "cell_type": "code",
   "execution_count": null,
   "id": "e7d99fa5",
   "metadata": {},
   "outputs": [],
   "source": [
    "def helper(f):\n",
    "    if f < fpe or f > 1.2 * fpe:\n",
    "        mp.mp.dps = 20\n",
    "    else:\n",
    "        mp.mp.dps = 40\n",
    "    val = p.electron_noise(f, ne, n, t, tp, tc, k, vsw)\n",
    "    mp.mp.dps= 15\n",
    "    return val"
   ]
  },
  {
   "cell_type": "code",
   "execution_count": null,
   "id": "5fe03c34",
   "metadata": {},
   "outputs": [],
   "source": [
    "e_noise = np.array([helper(f) for f in fbins])"
   ]
  },
  {
   "cell_type": "code",
   "execution_count": null,
   "id": "49e1ade0",
   "metadata": {},
   "outputs": [],
   "source": [
    "p_noise = np.array([p.proton(f, ne, n, t, tp, tc, k, vsw) for f in fbins])"
   ]
  },
  {
   "cell_type": "code",
   "execution_count": null,
   "id": "4218d7e1",
   "metadata": {},
   "outputs": [],
   "source": [
    "p_noise"
   ]
  },
  {
   "cell_type": "code",
   "execution_count": null,
   "id": "d3017d41",
   "metadata": {},
   "outputs": [],
   "source": [
    "def shot(za, sc_pot):\n",
    "    _vtc = np.sqrt(2 * echarge * tc/emass)\n",
    "    _nc = nc * 1e6\n",
    "    _ne = _nc * _vtc * (1 + n * mp.sqrt(t)) * 2 * np.pi * ant_rad * ant_len / np.sqrt(4 * np.pi)\n",
    "    A = 1 + echarge * sc_pot/tc\n",
    "    return 2 * A * echarge**2 * np.abs(za)**2 * _ne "
   ]
  },
  {
   "cell_type": "code",
   "execution_count": null,
   "id": "229104b4",
   "metadata": {},
   "outputs": [],
   "source": [
    "s_noise = np.array([shot(_za, 0) for _za in za])"
   ]
  },
  {
   "cell_type": "code",
   "execution_count": null,
   "id": "05352f88",
   "metadata": {},
   "outputs": [],
   "source": [
    "m_dat=readsav('/Users/tongyuguang/Google Drive/research/data/meudon_tnr/TNR_XY_ACE_19950619.sav')\n",
    "m_data=m_dat['data']\n",
    "mt = m_data['timeur8'][0]\n",
    "mtag = m_data['time'][0]"
   ]
  },
  {
   "cell_type": "code",
   "execution_count": null,
   "id": "a558b8e8",
   "metadata": {},
   "outputs": [],
   "source": [
    "mtag[15232]"
   ]
  },
  {
   "cell_type": "code",
   "execution_count": null,
   "id": "0f24a940",
   "metadata": {},
   "outputs": [],
   "source": [
    "spec = m_data['spectra'][0][:, 15232]\n",
    "spec = 10. ** (spec/10.)"
   ]
  },
  {
   "cell_type": "code",
   "execution_count": null,
   "id": "9cce396f",
   "metadata": {},
   "outputs": [],
   "source": [
    "plt.rc('text', usetex=False)\n",
    "plt.rc('font', family='serif')\n",
    "fig = plt.figure(figsize=[6, 6])\n",
    "plt.plot(fbins/1000, (e_noise + p_noise + s_noise)/gain, label='theory/3dp fits')\n",
    "plt.plot(fbins/1000, spec, 'o', markersize=2, label='WIND TNR')\n",
    "plt.plot(fbins/1000, e_noise/gain,'--', label='electron')\n",
    "plt.plot(fbins/1000, p_noise/gain, '-.', label='proton')\n",
    "plt.plot(fbins/1000, s_noise/gain, '--', label='shot')\n",
    "plt.xscale('log')\n",
    "plt.yscale('log')\n",
    "plt.xlim([4, 256])\n",
    "plt.ylim([1e-18, 1e-10])\n",
    "plt.xlabel(r'$f[kHz]$')\n",
    "plt.ylabel(r'$V_r^2[V^2Hz^{-1}]$')\n",
    "plt.title('19-JUN-1995, 18:50:02.256')\n",
    "plt.legend(loc='best')\n",
    "plt.show()"
   ]
  },
  {
   "cell_type": "code",
   "execution_count": null,
   "id": "af19667b",
   "metadata": {},
   "outputs": [],
   "source": [
    "fig.savefig('wind1.png', dpi=300)"
   ]
  },
  {
   "cell_type": "code",
   "execution_count": null,
   "id": "ffdae339",
   "metadata": {},
   "outputs": [],
   "source": []
  }
 ],
 "metadata": {
  "kernelspec": {
   "display_name": "Python 3 (ipykernel)",
   "language": "python",
   "name": "python3"
  },
  "language_info": {
   "codemirror_mode": {
    "name": "ipython",
    "version": 3
   },
   "file_extension": ".py",
   "mimetype": "text/x-python",
   "name": "python",
   "nbconvert_exporter": "python",
   "pygments_lexer": "ipython3",
   "version": "3.9.13"
  }
 },
 "nbformat": 4,
 "nbformat_minor": 1
}
