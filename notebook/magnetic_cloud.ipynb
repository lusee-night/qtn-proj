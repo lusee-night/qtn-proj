{
 "cells": [
  {
   "cell_type": "code",
   "execution_count": 1,
   "id": "6287490b",
   "metadata": {},
   "outputs": [
    {
     "name": "stderr",
     "output_type": "stream",
     "text": [
      "/tmp/ipykernel_3901960/2188330759.py:11: DeprecationWarning: Please use `readsav` from the `scipy.io` namespace, the `scipy.io.idl` namespace is deprecated.\n",
      "  from scipy.io.idl import readsav\n"
     ]
    }
   ],
   "source": [
    "import sys\n",
    "sys.path.append(\"..\")\n",
    "from qtn.maxkappa import MaxKappa\n",
    "from qtn.bimax import BiMax\n",
    "from qtn.util import (boltzmann, emass, echarge, permittivity, cspeed)\n",
    "import mpmath as mp\n",
    "import numpy as np\n",
    "import matplotlib.pyplot as plt\n",
    "%matplotlib inline\n",
    "\n",
    "from scipy.io.idl import readsav"
   ]
  },
  {
   "cell_type": "markdown",
   "id": "a415e371",
   "metadata": {},
   "source": [
    "###### load electron/proton parameters and TNR data"
   ]
  },
  {
   "cell_type": "code",
   "execution_count": 2,
   "id": "393cd904",
   "metadata": {},
   "outputs": [
    {
     "ename": "FileNotFoundError",
     "evalue": "[Errno 2] No such file or directory: '/Users/tongyuguang/Google Drive/research/new_data/idlsave_param_electron_19970111.sav'",
     "output_type": "error",
     "traceback": [
      "\u001b[0;31m---------------------------------------------------------------------------\u001b[0m",
      "\u001b[0;31mFileNotFoundError\u001b[0m                         Traceback (most recent call last)",
      "\u001b[0;32m/tmp/ipykernel_3901960/1119382097.py\u001b[0m in \u001b[0;36m<module>\u001b[0;34m\u001b[0m\n\u001b[0;32m----> 1\u001b[0;31m \u001b[0mp_dat\u001b[0m\u001b[0;34m=\u001b[0m\u001b[0mreadsav\u001b[0m\u001b[0;34m(\u001b[0m\u001b[0;34m'/Users/tongyuguang/Google Drive/research/new_data/idlsave_param_electron_19970111.sav'\u001b[0m\u001b[0;34m)\u001b[0m\u001b[0;34m\u001b[0m\u001b[0;34m\u001b[0m\u001b[0m\n\u001b[0m\u001b[1;32m      2\u001b[0m \u001b[0mm_dat\u001b[0m\u001b[0;34m=\u001b[0m\u001b[0mreadsav\u001b[0m\u001b[0;34m(\u001b[0m\u001b[0;34m'/Users/tongyuguang/Google Drive/research/data/meudon_tnr/TNR_XY_ACE_19970111.sav'\u001b[0m\u001b[0;34m)\u001b[0m\u001b[0;34m\u001b[0m\u001b[0;34m\u001b[0m\u001b[0m\n\u001b[1;32m      3\u001b[0m \u001b[0mm_data\u001b[0m\u001b[0;34m=\u001b[0m\u001b[0mm_dat\u001b[0m\u001b[0;34m[\u001b[0m\u001b[0;34m'data'\u001b[0m\u001b[0;34m]\u001b[0m\u001b[0;34m\u001b[0m\u001b[0;34m\u001b[0m\u001b[0m\n\u001b[1;32m      4\u001b[0m \u001b[0mmt\u001b[0m \u001b[0;34m=\u001b[0m \u001b[0mm_data\u001b[0m\u001b[0;34m[\u001b[0m\u001b[0;34m'timeur8'\u001b[0m\u001b[0;34m]\u001b[0m\u001b[0;34m[\u001b[0m\u001b[0;36m0\u001b[0m\u001b[0;34m]\u001b[0m\u001b[0;34m\u001b[0m\u001b[0;34m\u001b[0m\u001b[0m\n\u001b[1;32m      5\u001b[0m \u001b[0mmtag\u001b[0m \u001b[0;34m=\u001b[0m \u001b[0mm_data\u001b[0m\u001b[0;34m[\u001b[0m\u001b[0;34m'time'\u001b[0m\u001b[0;34m]\u001b[0m\u001b[0;34m[\u001b[0m\u001b[0;36m0\u001b[0m\u001b[0;34m]\u001b[0m\u001b[0;34m\u001b[0m\u001b[0;34m\u001b[0m\u001b[0m\n",
      "\u001b[0;32m~/Local/anaconda3/lib/python3.9/site-packages/scipy/io/_idl.py\u001b[0m in \u001b[0;36mreadsav\u001b[0;34m(file_name, idict, python_dict, uncompressed_file_name, verbose)\u001b[0m\n\u001b[1;32m    750\u001b[0m \u001b[0;34m\u001b[0m\u001b[0m\n\u001b[1;32m    751\u001b[0m     \u001b[0;31m# Open the IDL file\u001b[0m\u001b[0;34m\u001b[0m\u001b[0;34m\u001b[0m\u001b[0m\n\u001b[0;32m--> 752\u001b[0;31m     \u001b[0mf\u001b[0m \u001b[0;34m=\u001b[0m \u001b[0mopen\u001b[0m\u001b[0;34m(\u001b[0m\u001b[0mfile_name\u001b[0m\u001b[0;34m,\u001b[0m \u001b[0;34m'rb'\u001b[0m\u001b[0;34m)\u001b[0m\u001b[0;34m\u001b[0m\u001b[0;34m\u001b[0m\u001b[0m\n\u001b[0m\u001b[1;32m    753\u001b[0m \u001b[0;34m\u001b[0m\u001b[0m\n\u001b[1;32m    754\u001b[0m     \u001b[0;31m# Read the signature, which should be 'SR'\u001b[0m\u001b[0;34m\u001b[0m\u001b[0;34m\u001b[0m\u001b[0m\n",
      "\u001b[0;31mFileNotFoundError\u001b[0m: [Errno 2] No such file or directory: '/Users/tongyuguang/Google Drive/research/new_data/idlsave_param_electron_19970111.sav'"
     ]
    }
   ],
   "source": [
    "p_dat=readsav('/Users/tongyuguang/Google Drive/research/new_data/idlsave_param_electron_19970111.sav')\n",
    "m_dat=readsav('/Users/tongyuguang/Google Drive/research/data/meudon_tnr/TNR_XY_ACE_19970111.sav')\n",
    "m_data=m_dat['data']\n",
    "mt = m_data['timeur8'][0]\n",
    "mtag = m_data['time'][0]"
   ]
  },
  {
   "cell_type": "code",
   "execution_count": null,
   "id": "ada65b1d",
   "metadata": {},
   "outputs": [],
   "source": [
    "plt.plot(p_dat['tc'])\n",
    "plt.show()"
   ]
  },
  {
   "cell_type": "markdown",
   "id": "75594ec1",
   "metadata": {},
   "source": [
    "###### WIND WAVES specification"
   ]
  },
  {
   "cell_type": "code",
   "execution_count": null,
   "id": "966d48a0",
   "metadata": {},
   "outputs": [],
   "source": [
    "ant_len = 50      # m (monopole) \n",
    "ant_rad = 1.9e-4  # m\n",
    "base_cap = 20e-12 # Fara\n",
    "fbins = np.array([4000*2**((2*i+1)/32) for i in range(96)])"
   ]
  },
  {
   "cell_type": "markdown",
   "id": "4cf6b9ef",
   "metadata": {},
   "source": [
    "### example"
   ]
  },
  {
   "cell_type": "code",
   "execution_count": null,
   "id": "504b5dd8",
   "metadata": {},
   "outputs": [],
   "source": [
    "i=280\n",
    "print(p_dat['time_in_string'][i])\n",
    "print(p_dat['tc'][i])"
   ]
  },
  {
   "cell_type": "code",
   "execution_count": null,
   "id": "614b7ce7",
   "metadata": {},
   "outputs": [],
   "source": [
    "vsw = p_dat['vsw'][i] * 1000\n",
    "tp = p_dat['tp'][i]\n",
    "tc = p_dat['tc'][i]\n",
    "th = p_dat['th'][i]\n",
    "t = th/tc\n",
    "nc = p_dat['nc'][i]\n",
    "print(p_dat['nh'][i])\n",
    "nh = p_dat['netnr'][i]-nc\n",
    "n = nh/nc\n",
    "ne = nc + nh\n",
    "k = float(p_dat['kh'][i])\n",
    "fpe = np.sqrt(echarge**2 * ne * 1e6 /emass/permittivity)/2/np.pi\n",
    "print([tc, tp, nc, nh, fpe])\n",
    "print([ne, n, t, tp, tc, k, vsw])"
   ]
  },
  {
   "cell_type": "code",
   "execution_count": null,
   "id": "c1016766",
   "metadata": {},
   "outputs": [],
   "source": [
    "p_dat.keys()"
   ]
  },
  {
   "cell_type": "code",
   "execution_count": null,
   "id": "a18b007a",
   "metadata": {},
   "outputs": [],
   "source": [
    "netnr = p_dat['netnr'][i]\n",
    "print(netnr)"
   ]
  },
  {
   "cell_type": "code",
   "execution_count": null,
   "id": "33366234",
   "metadata": {},
   "outputs": [],
   "source": [
    "p = MaxKappa(ant_len, ant_rad, base_cap)"
   ]
  },
  {
   "cell_type": "code",
   "execution_count": null,
   "id": "c64d1112",
   "metadata": {},
   "outputs": [],
   "source": [
    "za_zr = np.array([np.array(p.impedance(f, ne, n, t, tp, tc, k, vsw)) for f in fbins])"
   ]
  },
  {
   "cell_type": "code",
   "execution_count": null,
   "id": "346beb7c",
   "metadata": {},
   "outputs": [],
   "source": [
    "za = za_zr[:, 0]\n",
    "zr = za_zr[:, 1]"
   ]
  },
  {
   "cell_type": "code",
   "execution_count": null,
   "id": "83b2db9a",
   "metadata": {},
   "outputs": [],
   "source": [
    "gain = np.abs((za+zr)/zr)**2"
   ]
  },
  {
   "cell_type": "code",
   "execution_count": null,
   "id": "ee202ae6",
   "metadata": {},
   "outputs": [],
   "source": [
    "plt.plot(gain)\n",
    "plt.show()"
   ]
  },
  {
   "cell_type": "code",
   "execution_count": null,
   "id": "bc19d15e",
   "metadata": {},
   "outputs": [],
   "source": [
    "def helper(f):\n",
    "    if f < fpe or f > 1.2 * fpe:\n",
    "        mp.mp.dps = 20\n",
    "    else:\n",
    "        mp.mp.dps = 40\n",
    "    val = p.electron_noise(f, ne, n, t, tp, tc, k, vsw)\n",
    "    mp.mp.dps= 15\n",
    "    return val"
   ]
  },
  {
   "cell_type": "code",
   "execution_count": null,
   "id": "db72c018",
   "metadata": {},
   "outputs": [],
   "source": [
    "e_noise = np.array([helper(f) for f in fbins])"
   ]
  },
  {
   "cell_type": "code",
   "execution_count": null,
   "id": "d35a8999",
   "metadata": {},
   "outputs": [],
   "source": [
    "p_noise = np.array([p.proton(f, ne, n, t, tp, tc, k, vsw) for f in fbins])"
   ]
  },
  {
   "cell_type": "code",
   "execution_count": null,
   "id": "1f63dfef",
   "metadata": {},
   "outputs": [],
   "source": [
    "def shot(za, sc_pot):\n",
    "    _vtc = np.sqrt(2 * echarge * tc/emass)\n",
    "    _nc = nc * 1e6\n",
    "    _ne = _nc * _vtc * (1 + n * np.sqrt(t)) * 2 * np.pi * ant_rad * ant_len / np.sqrt(4 * np.pi)\n",
    "    A = 1 + echarge * sc_pot/tc\n",
    "    return 2 * A * echarge**2 * np.abs(za)**2 * _ne "
   ]
  },
  {
   "cell_type": "code",
   "execution_count": null,
   "id": "727c2a8a",
   "metadata": {},
   "outputs": [],
   "source": [
    "s_noise = np.array([shot(_za, 0) for _za in za])"
   ]
  },
  {
   "cell_type": "code",
   "execution_count": null,
   "id": "5ebab60f",
   "metadata": {},
   "outputs": [],
   "source": [
    "jj = 15020\n",
    "time_tag = mtag[jj]\n",
    "print(time_tag)"
   ]
  },
  {
   "cell_type": "code",
   "execution_count": null,
   "id": "308502e8",
   "metadata": {},
   "outputs": [],
   "source": [
    "spec = m_data['spectra'][0][:, jj]\n",
    "spec = 10. ** (spec/10.)"
   ]
  },
  {
   "cell_type": "code",
   "execution_count": null,
   "id": "97917fd3",
   "metadata": {},
   "outputs": [],
   "source": [
    "plt.plot(fbins, spec)\n",
    "plt.xscale('log')\n",
    "plt.yscale('log')\n",
    "plt.show()"
   ]
  },
  {
   "cell_type": "code",
   "execution_count": null,
   "id": "bfb2e024",
   "metadata": {},
   "outputs": [],
   "source": [
    "plt.rc('text', usetex=False)\n",
    "plt.rc('font', family='serif')\n",
    "fig = plt.figure(figsize=[6, 6])\n",
    "plt.plot(fbins/1000*np.sqrt(netnr/ne), (e_noise + p_noise + s_noise)/gain, label='theory/3dp fits')\n",
    "plt.plot(fbins/1000, spec, 'o', markersize=2, label='WIND TNR')\n",
    "plt.plot(fbins/1000, e_noise/gain,'--', label='electron')\n",
    "plt.plot(fbins/1000, p_noise/gain, '-.', label='proton')\n",
    "plt.plot(fbins/1000, s_noise/gain, '--', label='shot')\n",
    "plt.xscale('log')\n",
    "plt.yscale('log')\n",
    "plt.xlim([4, 256])\n",
    "#plt.ylim([1e-18, 1e-10])\n",
    "plt.xlabel(r'$f[kHz]$')\n",
    "plt.ylabel(r'$V_r^2[V^2Hz^{-1}]$')\n",
    "plt.title(time_tag.decode(\"utf-8\"))\n",
    "plt.legend(loc='best')\n",
    "plt.show()"
   ]
  },
  {
   "cell_type": "code",
   "execution_count": null,
   "id": "bfa93747",
   "metadata": {},
   "outputs": [],
   "source": [
    "fig.savefig('wind1.png', dpi=300)"
   ]
  },
  {
   "cell_type": "code",
   "execution_count": null,
   "id": "9fe90273",
   "metadata": {},
   "outputs": [],
   "source": []
  }
 ],
 "metadata": {
  "kernelspec": {
   "display_name": "Python 3 (ipykernel)",
   "language": "python",
   "name": "python3"
  },
  "language_info": {
   "codemirror_mode": {
    "name": "ipython",
    "version": 3
   },
   "file_extension": ".py",
   "mimetype": "text/x-python",
   "name": "python",
   "nbconvert_exporter": "python",
   "pygments_lexer": "ipython3",
   "version": "3.9.13"
  }
 },
 "nbformat": 4,
 "nbformat_minor": 1
}
