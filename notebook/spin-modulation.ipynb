{
 "cells": [
  {
   "cell_type": "markdown",
   "id": "55dbd709",
   "metadata": {},
   "source": [
    "# Study the effect of spacecraft spin on proton noise"
   ]
  },
  {
   "cell_type": "markdown",
   "id": "fdee0f01",
   "metadata": {},
   "source": [
    "###### below we attempt to directly integrate the triple integral given in Issautier et al (1999). But it seems not feasible; the inner two integral already took too much time. "
   ]
  },
  {
   "cell_type": "code",
   "execution_count": 1,
   "id": "e44f60fe",
   "metadata": {},
   "outputs": [],
   "source": [
    "import sys\n",
    "sys.path.append(\"..\")\n",
    "import numpy as np\n",
    "import scipy.integrate\n",
    "from qtn.util import zpd_sp, timing, zp_pade\n",
    "import matplotlib.pyplot as plt"
   ]
  },
  {
   "cell_type": "code",
   "execution_count": 2,
   "id": "08c03e77",
   "metadata": {},
   "outputs": [],
   "source": [
    "boltzmann = 1.3806488e-23  # J/K\n",
    "emass = 9.10938291e-31     # kg\n",
    "pmass = 1.67262178e-27\n",
    "echarge = 1.60217657e-19   # C\n",
    "permittivity = 8.854187817e-12  # F/m\n",
    "cspeed = 299792458         # m/s"
   ]
  },
  {
   "cell_type": "code",
   "execution_count": 3,
   "id": "b3617930",
   "metadata": {},
   "outputs": [],
   "source": [
    "def cos_gamma(u, beta, phi):\n",
    "    \"\"\"\n",
    "    cos_gamma = u * cos(beta) + sqrt(1-u^2) * sin(beta) * cos(phi)\n",
    "    \n",
    "    Key parameters\n",
    "    --------------\n",
    "    u: cos(theta), where theta is the angle between wavenumber vector and solar wind bulk flow.\n",
    "    beta: angle between wire antenna and solar wind bulk flow (\\vec{v_{sw}}).\n",
    "    phi: azimuthal angle in the plane perpendicular to \\vec{v_{sw}}\n",
    "    \n",
    "    Return\n",
    "    ------\n",
    "    return cos(gamma)\n",
    "    \"\"\"\n",
    "    return u * np.cos(beta) + np.sqrt(1-u**2) * np.sin(beta) * np.cos(phi)"
   ]
  },
  {
   "cell_type": "code",
   "execution_count": 4,
   "id": "9ced1466",
   "metadata": {},
   "outputs": [],
   "source": [
    "def phi_integrand(k, l, u, beta, phi):\n",
    "    \"\"\"\n",
    "    sin(k*l*cos_gamma/2)**4 / (k*l*cos_gamma)**2\n",
    "    \n",
    "    Key parameters\n",
    "    --------------\n",
    "    k: magnitude of wavenumber vector\n",
    "    l: antenna length (monopole)\n",
    "    u, beta, phi: defined in cos_gamma() function\n",
    "    \n",
    "    Return:\n",
    "    return the integrand of phi integral\n",
    "    \"\"\"\n",
    "    cg = cos_gamma(u, beta, phi)\n",
    "    return np.sin(k * l * cg/2) **4 / (k * l * cg)**2"
   ]
  },
  {
   "cell_type": "code",
   "execution_count": 5,
   "id": "2448c8f9",
   "metadata": {},
   "outputs": [],
   "source": [
    "def phi_integral(k, l, u, beta):\n",
    "    \"\"\"\n",
    "    Integrate phi_integrand over (0, 2pi)\n",
    "    \"\"\"\n",
    "    return scipy.integrate.quad(lambda phi: phi_integrand(k, l, u, beta, phi), 0, 2*np.pi)[0]"
   ]
  },
  {
   "cell_type": "code",
   "execution_count": 6,
   "id": "5e03f846",
   "metadata": {},
   "outputs": [],
   "source": [
    "def e_l(k, w, vsw, u, tp, n):\n",
    "    \"\"\"\n",
    "    Calculate the longitudinal susceptibility tensor.\n",
    "    \n",
    "    Key parameters\n",
    "    --------------\n",
    "    k: magnitude of the wavenumber vector\n",
    "    w: frequency of interest\n",
    "    vsw: solar wind speed\n",
    "    u: cos(theta) which is defined in cos_gamma()\n",
    "    tp: proton temperature\n",
    "    np: proton density\n",
    "    \n",
    "    Return\n",
    "    ------\n",
    "    Return the longitudinal susceptibility tensor.\n",
    "    \n",
    "    \"\"\"\n",
    "    vthp = np.sqrt(2 * boltzmann * tp/ pmass)\n",
    "    zetap = (w - k*vsw*u)/ (k * vthp)\n",
    "    #print(zetap)\n",
    "    prod_1 = (emass/k)**2 / permittivity * n/(boltzmann * tp)\n",
    "    prod_2 = zpd_sp(zetap)\n",
    "    return 1 + prod_1 * prod_2"
   ]
  },
  {
   "cell_type": "code",
   "execution_count": 7,
   "id": "63948790",
   "metadata": {},
   "outputs": [],
   "source": [
    "def u_integrand(k, w, l, vsw, u, tp, n, beta):\n",
    "    \"\"\"\n",
    "    Calculate the integrand of u integral.\n",
    "    \"\"\"\n",
    "    el = e_l(k, w, vsw, u, tp, n)\n",
    "    vthp = np.sqrt(2 * boltzmann * tp/ pmass) \n",
    "    zetap = (w - k*vsw*u)/ (k * vthp)\n",
    "    return np.exp(-zetap**2) * phi_integral(k, l, u, beta) / np.abs(el)**2\n",
    "    "
   ]
  },
  {
   "cell_type": "code",
   "execution_count": 8,
   "id": "f1585e5f",
   "metadata": {},
   "outputs": [],
   "source": [
    "@timing\n",
    "def u_integral(k, w, l, vsw, tp, n, beta):\n",
    "    \"\"\"\n",
    "    Calculate the u integral\n",
    "    \n",
    "    \"\"\"\n",
    "    return scipy.integrate.quad(lambda u: u_integrand(k, w, l, vsw, u, tp, n, beta), -1, 1)[0]"
   ]
  },
  {
   "cell_type": "code",
   "execution_count": 9,
   "id": "bbda0cdd",
   "metadata": {},
   "outputs": [
    {
     "name": "stderr",
     "output_type": "stream",
     "text": [
      "/tmp/ipykernel_3902248/2291627588.py:5: IntegrationWarning: The maximum number of subdivisions (50) has been achieved.\n",
      "  If increasing the limit yields no improvement it is advised to analyze \n",
      "  the integrand in order to determine the difficulties.  If the position of a \n",
      "  local difficulty can be determined (singularity, discontinuity) one will \n",
      "  probably gain from splitting up the interval and calling the integrator \n",
      "  on the subranges.  Perhaps a special-purpose integrator should be used.\n",
      "  return scipy.integrate.quad(lambda phi: phi_integrand(k, l, u, beta, phi), 0, 2*np.pi)[0]\n"
     ]
    },
    {
     "name": "stdout",
     "output_type": "stream",
     "text": [
      "u_integral function took 30454.486 ms\n"
     ]
    },
    {
     "name": "stderr",
     "output_type": "stream",
     "text": [
      "/tmp/ipykernel_3902248/1485099015.py:7: IntegrationWarning: The maximum number of subdivisions (50) has been achieved.\n",
      "  If increasing the limit yields no improvement it is advised to analyze \n",
      "  the integrand in order to determine the difficulties.  If the position of a \n",
      "  local difficulty can be determined (singularity, discontinuity) one will \n",
      "  probably gain from splitting up the interval and calling the integrator \n",
      "  on the subranges.  Perhaps a special-purpose integrator should be used.\n",
      "  return scipy.integrate.quad(lambda u: u_integrand(k, w, l, vsw, u, tp, n, beta), -1, 1)[0]\n"
     ]
    },
    {
     "data": {
      "text/plain": [
       "0.0011936989750032973"
      ]
     },
     "execution_count": 9,
     "metadata": {},
     "output_type": "execute_result"
    }
   ],
   "source": [
    "u_integral(10, 1e4, 50, 4e5, 1e5, 1e7, 0.5)"
   ]
  },
  {
   "cell_type": "code",
   "execution_count": 10,
   "id": "057780a9",
   "metadata": {},
   "outputs": [
    {
     "name": "stdout",
     "output_type": "stream",
     "text": [
      "u_integral function took 4863.371 ms\n"
     ]
    },
    {
     "data": {
      "text/plain": [
       "0.003979874789559081"
      ]
     },
     "execution_count": 10,
     "metadata": {},
     "output_type": "execute_result"
    }
   ],
   "source": [
    "u_integral(3, 1e4, 50, 4e5, 1e5, 1e7, 0.5)"
   ]
  },
  {
   "cell_type": "code",
   "execution_count": 11,
   "id": "ab1a1b2b",
   "metadata": {},
   "outputs": [
    {
     "name": "stderr",
     "output_type": "stream",
     "text": [
      "/tmp/ipykernel_3902248/2291627588.py:5: IntegrationWarning: The maximum number of subdivisions (50) has been achieved.\n",
      "  If increasing the limit yields no improvement it is advised to analyze \n",
      "  the integrand in order to determine the difficulties.  If the position of a \n",
      "  local difficulty can be determined (singularity, discontinuity) one will \n",
      "  probably gain from splitting up the interval and calling the integrator \n",
      "  on the subranges.  Perhaps a special-purpose integrator should be used.\n",
      "  return scipy.integrate.quad(lambda phi: phi_integrand(k, l, u, beta, phi), 0, 2*np.pi)[0]\n",
      "/tmp/ipykernel_3902248/2291627588.py:5: IntegrationWarning: The integral is probably divergent, or slowly convergent.\n",
      "  return scipy.integrate.quad(lambda phi: phi_integrand(k, l, u, beta, phi), 0, 2*np.pi)[0]\n"
     ]
    }
   ],
   "source": [
    "ulist = np.linspace(-1, 1, 1001)\n",
    "uintval = [u_integrand(50, 1e4, 50, 4e5, u, 1e5, 1e7, 0.5) for u in ulist]\n",
    "ellist = [e_l(50, 1e4, 4e5, u, 1e5, 1e7) for u in ulist]"
   ]
  },
  {
   "cell_type": "markdown",
   "id": "a2bea497",
   "metadata": {},
   "source": [
    "### Conclusion"
   ]
  },
  {
   "cell_type": "markdown",
   "id": "aa6d7a57",
   "metadata": {},
   "source": [
    "###### It takes almost forever to do the full three dimension integral. Some simplications is necessary. "
   ]
  },
  {
   "cell_type": "markdown",
   "id": "14a62997",
   "metadata": {},
   "source": [
    "## Simplified expression for angle dependent proton noise"
   ]
  },
  {
   "cell_type": "code",
   "execution_count": 12,
   "id": "82b4977d",
   "metadata": {},
   "outputs": [],
   "source": [
    "import numpy as np\n",
    "import scipy.integrate\n",
    "from qtn.util import timing, boltzmann, emass, echarge, permittivity, cspeed\n",
    "import matplotlib.pyplot as plt\n",
    "%matplotlib inline"
   ]
  },
  {
   "cell_type": "code",
   "execution_count": 13,
   "id": "812b6d23",
   "metadata": {},
   "outputs": [],
   "source": [
    "def phi_integrand(y, beta, phi, omega, lrel):\n",
    "    \"\"\"\n",
    "    integrand for the phi integral.\n",
    "    \n",
    "    Key parameters\n",
    "    --------------\n",
    "    y: dimensionless parameter for the outer integral\n",
    "    beta: angle between antenna and solar wind velocity\n",
    "    phi: azimuthal angle\n",
    "    lrel: antenna length/debye length\n",
    "    \n",
    "    Return\n",
    "    ------\n",
    "    return the integrand for the phi integral\n",
    "    \"\"\"\n",
    "    kl_cos_gamma = lrel * (omega * np.cos(beta) + y * np.sin(beta) * np.cos(phi))\n",
    "    return np.sin(0.5 * kl_cos_gamma)**4 / kl_cos_gamma**2\n",
    "\n",
    "def phi_integral(y, beta, omega, lrel):\n",
    "    \"\"\"\n",
    "    value of the phi integral\n",
    "    \n",
    "    \"\"\"\n",
    "    return scipy.integrate.quad(lambda phi: phi_integrand(y, beta, phi, omega, lrel), 0, 2*np.pi)[0]"
   ]
  },
  {
   "cell_type": "code",
   "execution_count": 14,
   "id": "6bd7626a",
   "metadata": {},
   "outputs": [],
   "source": [
    "@timing\n",
    "def proton_angle(beta, f, ne, n, t, tp, tc, k, vsw, ant_len):\n",
    "    \"\"\"\n",
    "    proton noise at an arbitrary angle between antenna and solar wind velocity\n",
    "    \n",
    "    Key parameters\n",
    "    --------------\n",
    "    \n",
    "    \"\"\"\n",
    "    ne = ne * 1e6\n",
    "    tp = tp * echarge/boltzmann\n",
    "    tc = tc * echarge/boltzmann\n",
    "    w_p = np.sqrt(echarge**2 * ne/emass/permittivity)\n",
    "    te = (tc + tc * t * n)/(1+n)\n",
    "    tg = tc * (1 + n)/(1 + n/t)\n",
    "    ld = np.sqrt(permittivity * boltzmann * tg/ne/ echarge**2)\n",
    "    lrel = ant_len/ld\n",
    "    vte = np.sqrt(2 * boltzmann * te/ emass)\n",
    "    omega = f * 2 * np.pi * ld/vsw\n",
    "    tep = tg/tp\n",
    "    M = vsw/vte\n",
    "    \n",
    "    integrand = lambda y: y * phi_integral(y, beta, omega, lrel) / (1 + y**2 + omega**2) / (1 + tep + y**2 + omega**2)\n",
    "    integral = scipy.integrate.quad(integrand, 0, np.inf)[0]\n",
    "    coeff = 4 * np.sqrt(2 * emass * boltzmann * tg)/(np.pi**2 * permittivity * M)\n",
    "    return coeff * integral"
   ]
  },
  {
   "cell_type": "code",
   "execution_count": 15,
   "id": "47cf2b85",
   "metadata": {},
   "outputs": [],
   "source": [
    "ant_len = 50      # m (monopole) \n",
    "ant_rad = 1.9e-4  # m\n",
    "base_cap = 20e-12 # Fara\n",
    "fbins = np.array([4000*2**((2*i+1)/32) for i in range(96)])\n",
    "\n",
    "ne = 12.28\n",
    "vsw=3.966e5\n",
    "tc = 9.91\n",
    "tp = 9.62\n",
    "t = 6.57\n",
    "n = 0.026\n",
    "fpe = 31.47e3\n",
    "k = 7"
   ]
  },
  {
   "cell_type": "markdown",
   "id": "444bef24",
   "metadata": {},
   "source": [
    "### perpendicular case"
   ]
  },
  {
   "cell_type": "markdown",
   "id": "c071a50b",
   "metadata": {},
   "source": [
    "###### (can also be calculated using proton_angle routine, but much faster using MaxKappa.proton routine)"
   ]
  },
  {
   "cell_type": "code",
   "execution_count": 16,
   "id": "ea6331a7",
   "metadata": {},
   "outputs": [],
   "source": [
    "from qtn.maxkappa import MaxKappa"
   ]
  },
  {
   "cell_type": "code",
   "execution_count": 17,
   "id": "863ca491",
   "metadata": {},
   "outputs": [],
   "source": [
    "p = MaxKappa(ant_len, ant_rad, base_cap)"
   ]
  },
  {
   "cell_type": "code",
   "execution_count": 18,
   "id": "1983c7ef",
   "metadata": {},
   "outputs": [],
   "source": [
    "band_a = fbins[0:32]"
   ]
  },
  {
   "cell_type": "code",
   "execution_count": 19,
   "id": "8a4afce1",
   "metadata": {},
   "outputs": [],
   "source": [
    "perp = np.array([p.proton(f, ne, n, t, tp, tc, k, vsw) for f in fbins])"
   ]
  },
  {
   "cell_type": "markdown",
   "id": "7857337d",
   "metadata": {},
   "source": [
    "### other angles ($60^\\circ$, $45^\\circ$ and $30^\\circ$)"
   ]
  },
  {
   "cell_type": "code",
   "execution_count": 20,
   "id": "44ceaa4f",
   "metadata": {},
   "outputs": [
    {
     "name": "stderr",
     "output_type": "stream",
     "text": [
      "/tmp/ipykernel_3902248/1544233198.py:24: IntegrationWarning: The integral is probably divergent, or slowly convergent.\n",
      "  return scipy.integrate.quad(lambda phi: phi_integrand(y, beta, phi, omega, lrel), 0, 2*np.pi)[0]\n",
      "/tmp/ipykernel_3902248/1544233198.py:24: IntegrationWarning: The maximum number of subdivisions (50) has been achieved.\n",
      "  If increasing the limit yields no improvement it is advised to analyze \n",
      "  the integrand in order to determine the difficulties.  If the position of a \n",
      "  local difficulty can be determined (singularity, discontinuity) one will \n",
      "  probably gain from splitting up the interval and calling the integrator \n",
      "  on the subranges.  Perhaps a special-purpose integrator should be used.\n",
      "  return scipy.integrate.quad(lambda phi: phi_integrand(y, beta, phi, omega, lrel), 0, 2*np.pi)[0]\n"
     ]
    },
    {
     "name": "stdout",
     "output_type": "stream",
     "text": [
      "proton_angle function took 3184.724 ms\n",
      "proton_angle function took 3912.300 ms\n",
      "proton_angle function took 5089.588 ms\n",
      "proton_angle function took 3973.263 ms\n",
      "proton_angle function took 4015.414 ms\n",
      "proton_angle function took 3531.065 ms\n",
      "proton_angle function took 4254.112 ms\n",
      "proton_angle function took 3694.366 ms\n",
      "proton_angle function took 2161.685 ms\n",
      "proton_angle function took 1673.270 ms\n",
      "proton_angle function took 2259.661 ms\n",
      "proton_angle function took 8075.268 ms\n",
      "proton_angle function took 10054.128 ms\n",
      "proton_angle function took 6291.162 ms\n",
      "proton_angle function took 6219.735 ms\n",
      "proton_angle function took 862.096 ms\n",
      "proton_angle function took 6153.745 ms\n",
      "proton_angle function took 7629.044 ms\n",
      "proton_angle function took 6316.703 ms\n",
      "proton_angle function took 7780.454 ms\n",
      "proton_angle function took 6087.740 ms\n",
      "proton_angle function took 12125.928 ms\n",
      "proton_angle function took 6291.732 ms\n",
      "proton_angle function took 6506.039 ms\n",
      "proton_angle function took 5616.034 ms\n",
      "proton_angle function took 6536.775 ms\n",
      "proton_angle function took 6273.764 ms\n",
      "proton_angle function took 2167.964 ms\n",
      "proton_angle function took 3034.145 ms\n",
      "proton_angle function took 4296.194 ms\n",
      "proton_angle function took 3656.879 ms\n",
      "proton_angle function took 5045.951 ms\n",
      "proton_angle function took 6152.003 ms\n",
      "proton_angle function took 5846.404 ms\n",
      "proton_angle function took 5444.904 ms\n",
      "proton_angle function took 4366.840 ms\n",
      "proton_angle function took 5992.441 ms\n",
      "proton_angle function took 4837.830 ms\n",
      "proton_angle function took 4482.375 ms\n",
      "proton_angle function took 2129.537 ms\n",
      "proton_angle function took 6288.982 ms\n",
      "proton_angle function took 5833.482 ms\n",
      "proton_angle function took 7889.145 ms\n",
      "proton_angle function took 9627.132 ms\n",
      "proton_angle function took 4970.702 ms\n",
      "proton_angle function took 6606.763 ms\n",
      "proton_angle function took 5411.487 ms\n",
      "proton_angle function took 7918.636 ms\n",
      "proton_angle function took 7189.274 ms\n",
      "proton_angle function took 6241.999 ms\n",
      "proton_angle function took 7833.725 ms\n",
      "proton_angle function took 4506.174 ms\n",
      "proton_angle function took 7458.624 ms\n",
      "proton_angle function took 4983.913 ms\n",
      "proton_angle function took 5049.652 ms\n",
      "proton_angle function took 2372.886 ms\n",
      "proton_angle function took 3517.918 ms\n",
      "proton_angle function took 6426.653 ms\n",
      "proton_angle function took 5915.846 ms\n",
      "proton_angle function took 5527.052 ms\n",
      "proton_angle function took 6162.591 ms\n",
      "proton_angle function took 6814.272 ms\n",
      "proton_angle function took 4088.464 ms\n",
      "proton_angle function took 3244.973 ms\n",
      "proton_angle function took 7476.820 ms\n",
      "proton_angle function took 6123.125 ms\n",
      "proton_angle function took 5324.517 ms\n",
      "proton_angle function took 4743.351 ms\n",
      "proton_angle function took 4413.015 ms\n",
      "proton_angle function took 5049.841 ms\n",
      "proton_angle function took 5972.185 ms\n",
      "proton_angle function took 7033.772 ms\n",
      "proton_angle function took 5963.807 ms\n",
      "proton_angle function took 4199.370 ms\n",
      "proton_angle function took 4807.055 ms\n",
      "proton_angle function took 6988.021 ms\n",
      "proton_angle function took 6800.454 ms\n",
      "proton_angle function took 4048.765 ms\n",
      "proton_angle function took 9281.630 ms\n",
      "proton_angle function took 4997.821 ms\n",
      "proton_angle function took 4445.146 ms\n",
      "proton_angle function took 7436.093 ms\n",
      "proton_angle function took 8191.974 ms\n",
      "proton_angle function took 6665.915 ms\n",
      "proton_angle function took 4588.619 ms\n",
      "proton_angle function took 7987.026 ms\n",
      "proton_angle function took 6549.495 ms\n",
      "proton_angle function took 6331.918 ms\n",
      "proton_angle function took 6685.314 ms\n",
      "proton_angle function took 6743.182 ms\n",
      "proton_angle function took 7918.424 ms\n",
      "proton_angle function took 6279.110 ms\n",
      "proton_angle function took 4885.439 ms\n",
      "proton_angle function took 5564.584 ms\n",
      "proton_angle function took 7090.342 ms\n",
      "proton_angle function took 7490.283 ms\n"
     ]
    }
   ],
   "source": [
    "sixty = np.array([proton_angle(np.pi/3, f, ne, n, t, tp, tc, k, vsw, ant_len) for f in fbins])"
   ]
  },
  {
   "cell_type": "code",
   "execution_count": 21,
   "id": "258c4f4c",
   "metadata": {},
   "outputs": [
    {
     "name": "stderr",
     "output_type": "stream",
     "text": [
      "/tmp/ipykernel_3902248/1544233198.py:24: IntegrationWarning: The maximum number of subdivisions (50) has been achieved.\n",
      "  If increasing the limit yields no improvement it is advised to analyze \n",
      "  the integrand in order to determine the difficulties.  If the position of a \n",
      "  local difficulty can be determined (singularity, discontinuity) one will \n",
      "  probably gain from splitting up the interval and calling the integrator \n",
      "  on the subranges.  Perhaps a special-purpose integrator should be used.\n",
      "  return scipy.integrate.quad(lambda phi: phi_integrand(y, beta, phi, omega, lrel), 0, 2*np.pi)[0]\n",
      "/tmp/ipykernel_3902248/1544233198.py:24: IntegrationWarning: The integral is probably divergent, or slowly convergent.\n",
      "  return scipy.integrate.quad(lambda phi: phi_integrand(y, beta, phi, omega, lrel), 0, 2*np.pi)[0]\n"
     ]
    },
    {
     "name": "stdout",
     "output_type": "stream",
     "text": [
      "proton_angle function took 3181.652 ms\n",
      "proton_angle function took 3061.968 ms\n",
      "proton_angle function took 1524.245 ms\n",
      "proton_angle function took 3776.998 ms\n",
      "proton_angle function took 3198.457 ms\n",
      "proton_angle function took 3164.607 ms\n",
      "proton_angle function took 3658.770 ms\n",
      "proton_angle function took 3886.213 ms\n",
      "proton_angle function took 1740.637 ms\n",
      "proton_angle function took 3723.236 ms\n",
      "proton_angle function took 4481.536 ms\n",
      "proton_angle function took 3918.690 ms\n",
      "proton_angle function took 4512.982 ms\n",
      "proton_angle function took 3069.242 ms\n",
      "proton_angle function took 1806.803 ms\n",
      "proton_angle function took 1734.136 ms\n",
      "proton_angle function took 3527.515 ms\n",
      "proton_angle function took 1916.060 ms\n",
      "proton_angle function took 5392.110 ms\n",
      "proton_angle function took 3847.247 ms\n",
      "proton_angle function took 1712.390 ms\n",
      "proton_angle function took 1835.495 ms\n",
      "proton_angle function took 1901.527 ms\n",
      "proton_angle function took 1905.389 ms\n",
      "proton_angle function took 1818.804 ms\n",
      "proton_angle function took 3743.689 ms\n",
      "proton_angle function took 2905.678 ms\n",
      "proton_angle function took 4156.932 ms\n",
      "proton_angle function took 4851.745 ms\n",
      "proton_angle function took 6577.994 ms\n",
      "proton_angle function took 6884.374 ms\n",
      "proton_angle function took 5147.279 ms\n",
      "proton_angle function took 5991.668 ms\n",
      "proton_angle function took 5649.083 ms\n",
      "proton_angle function took 4846.247 ms\n",
      "proton_angle function took 5736.954 ms\n",
      "proton_angle function took 6702.306 ms\n",
      "proton_angle function took 4536.690 ms\n",
      "proton_angle function took 2669.129 ms\n",
      "proton_angle function took 8067.961 ms\n",
      "proton_angle function took 11675.238 ms\n",
      "proton_angle function took 4984.787 ms\n",
      "proton_angle function took 4911.027 ms\n",
      "proton_angle function took 4153.707 ms\n",
      "proton_angle function took 3737.622 ms\n",
      "proton_angle function took 6081.689 ms\n",
      "proton_angle function took 7926.784 ms\n",
      "proton_angle function took 5017.750 ms\n",
      "proton_angle function took 4195.473 ms\n",
      "proton_angle function took 6508.036 ms\n",
      "proton_angle function took 5450.684 ms\n",
      "proton_angle function took 5756.494 ms\n",
      "proton_angle function took 4404.363 ms\n",
      "proton_angle function took 3318.016 ms\n",
      "proton_angle function took 5282.713 ms\n",
      "proton_angle function took 3699.116 ms\n",
      "proton_angle function took 3124.557 ms\n",
      "proton_angle function took 7283.737 ms\n",
      "proton_angle function took 9434.140 ms\n",
      "proton_angle function took 9369.250 ms\n",
      "proton_angle function took 5950.491 ms\n",
      "proton_angle function took 4832.428 ms\n",
      "proton_angle function took 4825.293 ms\n",
      "proton_angle function took 4489.725 ms\n",
      "proton_angle function took 3876.099 ms\n",
      "proton_angle function took 4616.296 ms\n",
      "proton_angle function took 3232.277 ms\n",
      "proton_angle function took 9268.009 ms\n",
      "proton_angle function took 5123.493 ms\n",
      "proton_angle function took 7205.477 ms\n",
      "proton_angle function took 6034.738 ms\n",
      "proton_angle function took 6703.355 ms\n",
      "proton_angle function took 4679.995 ms\n",
      "proton_angle function took 6538.105 ms\n",
      "proton_angle function took 3858.539 ms\n",
      "proton_angle function took 5545.466 ms\n",
      "proton_angle function took 3828.824 ms\n",
      "proton_angle function took 5357.554 ms\n",
      "proton_angle function took 3491.270 ms\n",
      "proton_angle function took 5549.313 ms\n",
      "proton_angle function took 4113.372 ms\n",
      "proton_angle function took 5809.433 ms\n",
      "proton_angle function took 6572.971 ms\n",
      "proton_angle function took 6338.928 ms\n",
      "proton_angle function took 7684.501 ms\n",
      "proton_angle function took 7086.824 ms\n",
      "proton_angle function took 5750.243 ms\n",
      "proton_angle function took 9330.943 ms\n",
      "proton_angle function took 4519.828 ms\n",
      "proton_angle function took 7059.232 ms\n",
      "proton_angle function took 5862.485 ms\n",
      "proton_angle function took 6893.798 ms\n",
      "proton_angle function took 8456.768 ms\n",
      "proton_angle function took 3514.629 ms\n",
      "proton_angle function took 9402.285 ms\n",
      "proton_angle function took 8653.805 ms\n",
      "proton_angle function took 4021.248 ms\n",
      "proton_angle function took 3293.046 ms\n",
      "proton_angle function took 5449.495 ms\n",
      "proton_angle function took 3310.451 ms\n",
      "proton_angle function took 3376.031 ms\n",
      "proton_angle function took 4558.774 ms\n",
      "proton_angle function took 5241.252 ms\n",
      "proton_angle function took 4438.936 ms\n",
      "proton_angle function took 3104.119 ms\n",
      "proton_angle function took 3332.462 ms\n",
      "proton_angle function took 4095.310 ms\n",
      "proton_angle function took 2808.796 ms\n",
      "proton_angle function took 1079.563 ms\n",
      "proton_angle function took 2596.005 ms\n",
      "proton_angle function took 2420.329 ms\n",
      "proton_angle function took 3632.076 ms\n",
      "proton_angle function took 3231.852 ms\n",
      "proton_angle function took 4062.066 ms\n",
      "proton_angle function took 4623.834 ms\n",
      "proton_angle function took 5094.908 ms\n",
      "proton_angle function took 5088.525 ms\n",
      "proton_angle function took 2959.662 ms\n",
      "proton_angle function took 3576.641 ms\n",
      "proton_angle function took 1325.368 ms\n",
      "proton_angle function took 4581.945 ms\n",
      "proton_angle function took 4547.796 ms\n",
      "proton_angle function took 3482.014 ms\n",
      "proton_angle function took 5232.616 ms\n",
      "proton_angle function took 5989.689 ms\n",
      "proton_angle function took 439.524 ms\n",
      "proton_angle function took 2402.853 ms\n",
      "proton_angle function took 3604.475 ms\n",
      "proton_angle function took 2696.705 ms\n",
      "proton_angle function took 3557.638 ms\n",
      "proton_angle function took 4323.272 ms\n",
      "proton_angle function took 2479.972 ms\n",
      "proton_angle function took 3212.046 ms\n",
      "proton_angle function took 2456.989 ms\n",
      "proton_angle function took 4566.432 ms\n",
      "proton_angle function took 4274.822 ms\n",
      "proton_angle function took 5005.531 ms\n",
      "proton_angle function took 5922.240 ms\n",
      "proton_angle function took 2601.118 ms\n",
      "proton_angle function took 3551.636 ms\n",
      "proton_angle function took 4390.604 ms\n",
      "proton_angle function took 3251.206 ms\n",
      "proton_angle function took 3538.405 ms\n",
      "proton_angle function took 4974.350 ms\n",
      "proton_angle function took 3973.246 ms\n",
      "proton_angle function took 5242.224 ms\n",
      "proton_angle function took 5352.238 ms\n",
      "proton_angle function took 4259.022 ms\n",
      "proton_angle function took 2569.860 ms\n",
      "proton_angle function took 4936.545 ms\n",
      "proton_angle function took 4269.646 ms\n",
      "proton_angle function took 4509.566 ms\n",
      "proton_angle function took 4916.569 ms\n",
      "proton_angle function took 4102.172 ms\n",
      "proton_angle function took 4335.207 ms\n",
      "proton_angle function took 3008.124 ms\n",
      "proton_angle function took 4313.808 ms\n",
      "proton_angle function took 3342.348 ms\n",
      "proton_angle function took 5209.723 ms\n",
      "proton_angle function took 5505.927 ms\n",
      "proton_angle function took 4589.246 ms\n",
      "proton_angle function took 5538.072 ms\n",
      "proton_angle function took 4411.641 ms\n",
      "proton_angle function took 4490.031 ms\n",
      "proton_angle function took 5783.110 ms\n",
      "proton_angle function took 4338.425 ms\n",
      "proton_angle function took 4178.728 ms\n",
      "proton_angle function took 27.970 ms\n",
      "proton_angle function took 5981.758 ms\n",
      "proton_angle function took 6023.979 ms\n",
      "proton_angle function took 4858.964 ms\n",
      "proton_angle function took 6058.927 ms\n",
      "proton_angle function took 3505.345 ms\n",
      "proton_angle function took 6800.831 ms\n",
      "proton_angle function took 7622.380 ms\n",
      "proton_angle function took 4062.270 ms\n",
      "proton_angle function took 7374.345 ms\n",
      "proton_angle function took 4671.870 ms\n",
      "proton_angle function took 7823.374 ms\n",
      "proton_angle function took 7541.610 ms\n",
      "proton_angle function took 5745.412 ms\n",
      "proton_angle function took 5123.438 ms\n",
      "proton_angle function took 5312.295 ms\n",
      "proton_angle function took 8001.942 ms\n",
      "proton_angle function took 9830.843 ms\n",
      "proton_angle function took 9677.472 ms\n",
      "proton_angle function took 8163.306 ms\n",
      "proton_angle function took 9843.226 ms\n",
      "proton_angle function took 8711.256 ms\n",
      "proton_angle function took 9245.847 ms\n",
      "proton_angle function took 10755.734 ms\n",
      "proton_angle function took 10280.991 ms\n",
      "proton_angle function took 2647.280 ms\n",
      "proton_angle function took 3042.829 ms\n",
      "proton_angle function took 2859.525 ms\n",
      "proton_angle function took 2708.615 ms\n",
      "proton_angle function took 3476.345 ms\n",
      "proton_angle function took 3439.899 ms\n",
      "proton_angle function took 2437.919 ms\n",
      "proton_angle function took 2960.779 ms\n",
      "proton_angle function took 3833.163 ms\n",
      "proton_angle function took 2662.006 ms\n",
      "proton_angle function took 2460.417 ms\n",
      "proton_angle function took 3857.176 ms\n",
      "proton_angle function took 3507.723 ms\n",
      "proton_angle function took 2933.949 ms\n",
      "proton_angle function took 3251.748 ms\n",
      "proton_angle function took 4014.377 ms\n",
      "proton_angle function took 2957.320 ms\n",
      "proton_angle function took 3355.535 ms\n",
      "proton_angle function took 2403.304 ms\n"
     ]
    },
    {
     "name": "stdout",
     "output_type": "stream",
     "text": [
      "proton_angle function took 3014.846 ms\n",
      "proton_angle function took 2848.612 ms\n",
      "proton_angle function took 2645.995 ms\n",
      "proton_angle function took 2208.574 ms\n",
      "proton_angle function took 2442.443 ms\n",
      "proton_angle function took 2494.035 ms\n",
      "proton_angle function took 3060.412 ms\n",
      "proton_angle function took 3312.365 ms\n",
      "proton_angle function took 4506.650 ms\n",
      "proton_angle function took 4634.728 ms\n",
      "proton_angle function took 3639.558 ms\n",
      "proton_angle function took 2065.373 ms\n",
      "proton_angle function took 3916.068 ms\n",
      "proton_angle function took 3576.833 ms\n",
      "proton_angle function took 2579.685 ms\n",
      "proton_angle function took 2931.144 ms\n",
      "proton_angle function took 2860.111 ms\n",
      "proton_angle function took 3085.522 ms\n",
      "proton_angle function took 3047.016 ms\n",
      "proton_angle function took 4750.588 ms\n",
      "proton_angle function took 3595.011 ms\n",
      "proton_angle function took 1993.574 ms\n",
      "proton_angle function took 2659.689 ms\n",
      "proton_angle function took 2782.907 ms\n",
      "proton_angle function took 2525.048 ms\n",
      "proton_angle function took 2228.346 ms\n",
      "proton_angle function took 4268.472 ms\n",
      "proton_angle function took 3890.564 ms\n",
      "proton_angle function took 2797.087 ms\n",
      "proton_angle function took 3166.281 ms\n",
      "proton_angle function took 2591.411 ms\n",
      "proton_angle function took 2877.578 ms\n",
      "proton_angle function took 4399.871 ms\n",
      "proton_angle function took 2635.339 ms\n",
      "proton_angle function took 3224.132 ms\n",
      "proton_angle function took 2991.631 ms\n",
      "proton_angle function took 3876.328 ms\n",
      "proton_angle function took 2765.099 ms\n",
      "proton_angle function took 3806.093 ms\n",
      "proton_angle function took 3141.361 ms\n",
      "proton_angle function took 4343.551 ms\n",
      "proton_angle function took 4077.510 ms\n",
      "proton_angle function took 2921.855 ms\n",
      "proton_angle function took 3201.933 ms\n",
      "proton_angle function took 3188.446 ms\n",
      "proton_angle function took 3396.172 ms\n",
      "proton_angle function took 5464.582 ms\n",
      "proton_angle function took 3275.339 ms\n",
      "proton_angle function took 3448.425 ms\n",
      "proton_angle function took 4091.944 ms\n",
      "proton_angle function took 5221.670 ms\n",
      "proton_angle function took 5329.421 ms\n",
      "proton_angle function took 3947.906 ms\n",
      "proton_angle function took 5357.999 ms\n",
      "proton_angle function took 4977.429 ms\n",
      "proton_angle function took 5109.834 ms\n",
      "proton_angle function took 5161.779 ms\n",
      "proton_angle function took 5318.310 ms\n",
      "proton_angle function took 5766.690 ms\n",
      "proton_angle function took 3631.468 ms\n",
      "proton_angle function took 5053.810 ms\n",
      "proton_angle function took 5082.555 ms\n",
      "proton_angle function took 7124.925 ms\n",
      "proton_angle function took 6885.745 ms\n",
      "proton_angle function took 6089.103 ms\n",
      "proton_angle function took 6066.666 ms\n",
      "proton_angle function took 5330.397 ms\n",
      "proton_angle function took 6888.095 ms\n",
      "proton_angle function took 6295.265 ms\n",
      "proton_angle function took 6105.310 ms\n",
      "proton_angle function took 6493.658 ms\n",
      "proton_angle function took 5450.961 ms\n",
      "proton_angle function took 5470.420 ms\n",
      "proton_angle function took 5246.317 ms\n",
      "proton_angle function took 5075.311 ms\n",
      "proton_angle function took 1142.513 ms\n",
      "proton_angle function took 3796.948 ms\n"
     ]
    }
   ],
   "source": [
    "forty_five = np.array([proton_angle(np.pi/4, f, ne, n, t, tp, tc, k, vsw, ant_len) for f in fbins])\n",
    "thirty = np.array([proton_angle(np.pi/6, f, ne, n, t, tp, tc, k, vsw, ant_len) for f in fbins])\n",
    "fifteen = np.array([proton_angle(np.pi/12, f, ne, n, t, tp, tc, k, vsw, ant_len) for f in fbins])"
   ]
  },
  {
   "cell_type": "markdown",
   "id": "f7eb7b1e",
   "metadata": {},
   "source": [
    "###### save proton noise to file"
   ]
  },
  {
   "cell_type": "code",
   "execution_count": 22,
   "id": "860ab3d0",
   "metadata": {},
   "outputs": [],
   "source": [
    "#np.savez('625_proton_angle', perp = perp, sixty = sixty,\n",
    "#         forty_five = forty_five, thirty = thirty, fifteen = fifteen)"
   ]
  },
  {
   "cell_type": "code",
   "execution_count": 23,
   "id": "94df241e",
   "metadata": {},
   "outputs": [
    {
     "ename": "FileNotFoundError",
     "evalue": "[Errno 2] No such file or directory: '625_proton_angle.npz'",
     "output_type": "error",
     "traceback": [
      "\u001b[0;31m---------------------------------------------------------------------------\u001b[0m",
      "\u001b[0;31mFileNotFoundError\u001b[0m                         Traceback (most recent call last)",
      "\u001b[0;32m/tmp/ipykernel_3902248/3097653576.py\u001b[0m in \u001b[0;36m<module>\u001b[0;34m\u001b[0m\n\u001b[0;32m----> 1\u001b[0;31m \u001b[0mtest\u001b[0m\u001b[0;34m=\u001b[0m\u001b[0mnp\u001b[0m\u001b[0;34m.\u001b[0m\u001b[0mload\u001b[0m\u001b[0;34m(\u001b[0m\u001b[0;34m'625_proton_angle.npz'\u001b[0m\u001b[0;34m)\u001b[0m\u001b[0;34m\u001b[0m\u001b[0;34m\u001b[0m\u001b[0m\n\u001b[0m\u001b[1;32m      2\u001b[0m \u001b[0mtest\u001b[0m\u001b[0;34m.\u001b[0m\u001b[0mfiles\u001b[0m\u001b[0;34m\u001b[0m\u001b[0;34m\u001b[0m\u001b[0m\n",
      "\u001b[0;32m~/Local/anaconda3/lib/python3.9/site-packages/numpy/lib/npyio.py\u001b[0m in \u001b[0;36mload\u001b[0;34m(file, mmap_mode, allow_pickle, fix_imports, encoding)\u001b[0m\n\u001b[1;32m    415\u001b[0m             \u001b[0mown_fid\u001b[0m \u001b[0;34m=\u001b[0m \u001b[0;32mFalse\u001b[0m\u001b[0;34m\u001b[0m\u001b[0;34m\u001b[0m\u001b[0m\n\u001b[1;32m    416\u001b[0m         \u001b[0;32melse\u001b[0m\u001b[0;34m:\u001b[0m\u001b[0;34m\u001b[0m\u001b[0;34m\u001b[0m\u001b[0m\n\u001b[0;32m--> 417\u001b[0;31m             \u001b[0mfid\u001b[0m \u001b[0;34m=\u001b[0m \u001b[0mstack\u001b[0m\u001b[0;34m.\u001b[0m\u001b[0menter_context\u001b[0m\u001b[0;34m(\u001b[0m\u001b[0mopen\u001b[0m\u001b[0;34m(\u001b[0m\u001b[0mos_fspath\u001b[0m\u001b[0;34m(\u001b[0m\u001b[0mfile\u001b[0m\u001b[0;34m)\u001b[0m\u001b[0;34m,\u001b[0m \u001b[0;34m\"rb\"\u001b[0m\u001b[0;34m)\u001b[0m\u001b[0;34m)\u001b[0m\u001b[0;34m\u001b[0m\u001b[0;34m\u001b[0m\u001b[0m\n\u001b[0m\u001b[1;32m    418\u001b[0m             \u001b[0mown_fid\u001b[0m \u001b[0;34m=\u001b[0m \u001b[0;32mTrue\u001b[0m\u001b[0;34m\u001b[0m\u001b[0;34m\u001b[0m\u001b[0m\n\u001b[1;32m    419\u001b[0m \u001b[0;34m\u001b[0m\u001b[0m\n",
      "\u001b[0;31mFileNotFoundError\u001b[0m: [Errno 2] No such file or directory: '625_proton_angle.npz'"
     ]
    }
   ],
   "source": [
    "test=np.load('625_proton_angle.npz')\n",
    "test.files"
   ]
  },
  {
   "cell_type": "code",
   "execution_count": null,
   "id": "9b70fcb7",
   "metadata": {},
   "outputs": [],
   "source": [
    "saved_perp = test['perp']\n",
    "saved_sixty = test['sixty']\n",
    "saved_forty_five = test['forty_five']\n",
    "saved_thirty = test['thirty']\n",
    "saved_fifteen = test['fifteen']"
   ]
  },
  {
   "cell_type": "code",
   "execution_count": null,
   "id": "836d044a",
   "metadata": {},
   "outputs": [],
   "source": [
    "from scipy.io.idl import readsav\n",
    "from os.path import expanduser\n",
    "home = expanduser(\"~\")\n",
    "fbins = np.array([4000*2**((2*i+1)/32) for i in range(96)])"
   ]
  },
  {
   "cell_type": "markdown",
   "id": "95133470",
   "metadata": {},
   "source": [
    "#### plot proton noise at different beta angles"
   ]
  },
  {
   "cell_type": "code",
   "execution_count": null,
   "id": "fef65023",
   "metadata": {},
   "outputs": [],
   "source": [
    "fig = plt.figure(figsize=[6,6])\n",
    "plt.plot(fbins, saved_perp, label='$(\\mathbf{v}_{sw}, \\hat{\\mathbf{l}}_{ant})=90^\\circ$')\n",
    "plt.plot(fbins, saved_sixty, label='$60^\\circ$')\n",
    "plt.plot(fbins, saved_forty_five, label='$45^\\circ$')\n",
    "plt.plot(fbins, saved_thirty, label='$30^\\circ$')\n",
    "plt.plot(fbins, saved_fifteen, label='$15^\\circ$')\n",
    "\n",
    "plt.xscale('log')\n",
    "plt.yscale('log')\n",
    "plt.xlim([4e3, 256e3])\n",
    "plt.ylim([1e-18, 1e-12])\n",
    "plt.legend(loc='best')\n",
    "plt.show()"
   ]
  },
  {
   "cell_type": "code",
   "execution_count": null,
   "id": "b5d8f869",
   "metadata": {},
   "outputs": [],
   "source": [
    "m_dat=readsav(home+'/Google Drive/research/data/meudon_tnr/TNR_XY_ACE_19950625.sav')\n",
    "m_data=m_dat['data']\n",
    "mt = m_data['timeur8'][0]\n",
    "mtag = m_data['time'][0]\n",
    "spec = m_data['spectra'][0]#[:, 5223]\n",
    "spec = 10. ** (spec/10.)"
   ]
  },
  {
   "cell_type": "code",
   "execution_count": null,
   "id": "2963d6a0",
   "metadata": {},
   "outputs": [],
   "source": [
    "spec[:, 5223:5225].shape"
   ]
  },
  {
   "cell_type": "code",
   "execution_count": null,
   "id": "f16a5916",
   "metadata": {},
   "outputs": [],
   "source": [
    "dat625 = np.load('data/625_bimax.npz')\n",
    "gain = dat625['gain']\n",
    "e_noise = dat625['e_noise']\n",
    "s_noise = dat625['s_noise']\n",
    "p_noise = dat625['p_noise']"
   ]
  },
  {
   "cell_type": "code",
   "execution_count": null,
   "id": "1cafc626",
   "metadata": {},
   "outputs": [],
   "source": [
    "dat625.files"
   ]
  },
  {
   "cell_type": "code",
   "execution_count": null,
   "id": "39914850",
   "metadata": {},
   "outputs": [],
   "source": [
    "np.arange(5220, 5228)"
   ]
  },
  {
   "cell_type": "code",
   "execution_count": null,
   "id": "be1a4b4b",
   "metadata": {},
   "outputs": [],
   "source": [
    "ind = 5223\n",
    "rang = 3\n",
    "avg_spec = np.average(spec[:, ind-rang:ind + rang + 1], axis=1)\n",
    "\n",
    "fig = plt.figure(figsize=[6,6])\n",
    "plt.rc('text', usetex=False)\n",
    "plt.rc('font', family='serif')\n",
    "\n",
    "plt.plot(fbins, saved_perp + e_noise, label='$90^\\circ$')\n",
    "plt.plot(fbins, saved_sixty + e_noise, label='$60^\\circ$')\n",
    "plt.plot(fbins, saved_forty_five + e_noise, label='$45^\\circ$')\n",
    "plt.plot(fbins, saved_thirty + e_noise, label='$30^\\circ$')\n",
    "plt.plot(fbins, saved_fifteen +e_noise, label='$15^\\circ$')\n",
    "\n",
    "for i in np.arange(ind-rang, ind+rang+1):\n",
    "    plt.plot(fbins, spec[:, i] * gain, 'o', markersize=1)\n",
    "plt.plot(fbins, avg_spec * gain, '-', markersize=1, label='average TNR')\n",
    "\n",
    "plt.xscale('log')\n",
    "plt.yscale('log')\n",
    "plt.xlim([4e3, 256e3])\n",
    "plt.ylim([1e-16, 1e-12])\n",
    "plt.title(\"theoretical spectra for \" + mtag[ind].decode(\"utf-8\") + \"\\n dots correspond to 7 nearby TNR spectra\")\n",
    "plt.legend(loc='best')\n",
    "plt.show()"
   ]
  },
  {
   "cell_type": "code",
   "execution_count": null,
   "id": "f59f2eac",
   "metadata": {},
   "outputs": [],
   "source": [
    "fig.savefig('wind1.png', dpi=300)"
   ]
  },
  {
   "cell_type": "code",
   "execution_count": null,
   "id": "f3f829cc",
   "metadata": {},
   "outputs": [],
   "source": [
    "beta_list = np.arange(-np.pi, np.pi+0.01, np.pi/6)"
   ]
  },
  {
   "cell_type": "code",
   "execution_count": null,
   "id": "5b127b9a",
   "metadata": {},
   "outputs": [],
   "source": [
    "p_beta = np.array([proton_angle(beta, 4e3, ne, n, t, tp, tc, k, vsw, ant_len) for beta in beta_list])"
   ]
  },
  {
   "cell_type": "code",
   "execution_count": null,
   "id": "2a608d04",
   "metadata": {},
   "outputs": [],
   "source": [
    "plt.plot(beta_list, p_beta/gain[0])\n",
    "plt.yscale('log')\n",
    "plt.show()"
   ]
  },
  {
   "cell_type": "code",
   "execution_count": null,
   "id": "d57aa0f0",
   "metadata": {},
   "outputs": [],
   "source": [
    "proton_angle(1.57, 14e3, ne, n, t, tp, tc, k, vsw, ant_len)"
   ]
  },
  {
   "cell_type": "code",
   "execution_count": null,
   "id": "083ab8ce",
   "metadata": {},
   "outputs": [],
   "source": []
  }
 ],
 "metadata": {
  "kernelspec": {
   "display_name": "Python 3 (ipykernel)",
   "language": "python",
   "name": "python3"
  },
  "language_info": {
   "codemirror_mode": {
    "name": "ipython",
    "version": 3
   },
   "file_extension": ".py",
   "mimetype": "text/x-python",
   "name": "python",
   "nbconvert_exporter": "python",
   "pygments_lexer": "ipython3",
   "version": "3.9.13"
  }
 },
 "nbformat": 4,
 "nbformat_minor": 1
}
