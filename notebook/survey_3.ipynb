{
 "cells": [
  {
   "cell_type": "code",
   "execution_count": 2,
   "id": "ec09a391",
   "metadata": {},
   "outputs": [],
   "source": [
    "from qtn.maxkappa import MaxKappa\n",
    "from qtn.util import (boltzmann, emass, echarge, permittivity, cspeed, fperp, fp, timing)\n",
    "import numpy as np\n",
    "import mpmath as mp\n",
    "import matplotlib.pyplot as plt\n",
    "from scipy.io.idl import readsav\n",
    "%matplotlib inline"
   ]
  },
  {
   "cell_type": "code",
   "execution_count": 2,
   "id": "55250aae",
   "metadata": {},
   "outputs": [],
   "source": [
    "ant_len = 50      # m (monopole) \n",
    "ant_rad = 1.9e-4  # m\n",
    "base_cap = 20e-12 # Fara\n",
    "fbins = np.array([4000*2**((2*i+1)/32) for i in range(96)])"
   ]
  },
  {
   "cell_type": "code",
   "execution_count": 3,
   "id": "fe2ddac0",
   "metadata": {},
   "outputs": [
    {
     "name": "stderr",
     "output_type": "stream",
     "text": [
      "/usr/local/lib/python3.4/site-packages/scipy/io/idl.py:167: UserWarning: warning: empty strings are now set to '' instead of None\n",
      "  warnings.warn(\"warning: empty strings are now set to '' instead of None\")\n"
     ]
    }
   ],
   "source": [
    "wind_data = readsav('/Users/tongyuguang/Google Drive/research/new_data/idlsave_param_electron_19950619.sav')\n",
    "m_dat=readsav('/Users/tongyuguang/Google Drive/research/data/meudon_tnr/TNR_XY_ACE_19950619.sav')\n",
    "m_data=m_dat['data']\n",
    "mt = m_data['timeur8'][0]\n",
    "mtag = m_data['time'][0]\n",
    "quality = wind_data['quality']\n",
    "qualified = np.where(quality>0)[0]"
   ]
  },
  {
   "cell_type": "code",
   "execution_count": 4,
   "id": "4df63cf1",
   "metadata": {},
   "outputs": [],
   "source": [
    "@timing\n",
    "def sample(i, wind_data, mt, m_data):\n",
    "    tc = float(wind_data['tc'][i])\n",
    "    tp = float(wind_data['tp'][i])\n",
    "    th = float(wind_data['th'][i])\n",
    "    ts = float(wind_data['ts'][i])\n",
    "    nc = float(wind_data['nc'][i])\n",
    "    nh = float(wind_data['nh'][i])\n",
    "    ns = float(wind_data['ns'][i])\n",
    "    ## use halo + strahl\" as halo\n",
    "    nh = nh + ns\n",
    "    netnr = float(wind_data['netnr'][i])\n",
    "    k = float(wind_data['kh'][i])\n",
    "    ephi = wind_data['ephi'][i]\n",
    "    vsw = float(wind_data['vsw'][i]) * 1000\n",
    "    time = float(wind_data['time'][i])\n",
    "    time_string = wind_data['time_in_string'][i].decode(\"utf-8\").split('/')\n",
    "    time_string = time_string[0] + '-' + time_string[1]\n",
    "    ne = nc + nh + ns\n",
    "    n = nh/nc\n",
    "    t = th/tc\n",
    "    fpe = np.sqrt(echarge**2 * ne * 1e6 /emass/permittivity)/2/np.pi\n",
    "    day_3dp = round(float(wind_data['time'][0])/24/3600)\n",
    "    time_3dp = time/24/3600 - day_3dp\n",
    "    \n",
    "    # index of the closest spectrum\n",
    "    day_tnr = round(mt[0])\n",
    "    ind = np.abs(mt-day_tnr-time_3dp).argmin()\n",
    "    print(ind)\n",
    "    \n",
    "    # spectrum \n",
    "    spec = m_data['spectra'][0][:,ind]\n",
    "    spec = 10. ** (spec/10.)\n",
    "    \n",
    "    # texts in the plot\n",
    "    texts = \"{0}{1:.2e}\\n\".format(r'$V_{sw}=$',vsw) + \\\n",
    "    \"{0}{1:.2f}\\n\".format(r'$n_c=$',nc) + \\\n",
    "    \"{0}{1:.2f}\\n\".format(r'$n_h=$',nh) + \\\n",
    "    \"{0}{1:.2e}\\n\".format(r'$n_s=$',ns) + \\\n",
    "    \"{0}{1:.2f}\\n\".format(r'$nn=$',netnr) + \\\n",
    "    \"{0}{1:.2f}\\n\".format(r'$T_c=$',tc) + \\\n",
    "    \"{0}{1:.2f}\\n\".format(r'$T_h=$',th) + \\\n",
    "    \"{0}{1:.2f}\\n\".format(r'$T_p=$',tp) + \\\n",
    "    \"{0}{1:.2f}\".format(r'$\\kappa=$',k)\n",
    "    \n",
    "    p = MaxKappa(ant_len, ant_rad, base_cap)\n",
    "    za_zr = np.array([np.array(p.impedance(f, ne, n, t, tp, tc, k, vsw)) for f in fbins])\n",
    "    za = za_zr[:, 0]\n",
    "    zr = za_zr[:, 1]\n",
    "    gain = np.abs((za+zr)/zr)**2\n",
    "\n",
    "    def helper(f):\n",
    "        \"\"\"\n",
    "        control precision when calculating electron noise.\n",
    "        \"\"\"\n",
    "        if f < fpe or f > 1.2 * fpe:\n",
    "            mp.mp.dps = 20\n",
    "        else:\n",
    "            mp.mp.dps = 40\n",
    "        val = p.electron_noise(f, ne, n, t, tp, tc, k, vsw)\n",
    "        mp.mp.dps= 15\n",
    "        return val\n",
    "\n",
    "    e_noise = np.array([helper(f) for f in fbins])\n",
    "    p_noise = np.array([p.proton(f, ne, n, t, tp, tc, k, vsw) for f in fbins])\n",
    "    \n",
    "    def shot(za, ephi):\n",
    "        \"\"\"\n",
    "        \n",
    "        \"\"\"\n",
    "        _vtc = np.sqrt(2 * echarge * tc/emass)\n",
    "        _nc = nc * 1e6\n",
    "        _ne = _nc * _vtc * (1 + n * mp.sqrt(t)) * 2 * np.pi * ant_rad * ant_len / np.sqrt(4 * np.pi)\n",
    "        A = 1 + ephi/tc\n",
    "        return 2 * A * echarge**2 * np.abs(za)**2 * _ne \n",
    "\n",
    "    s_noise = np.array([shot(_za, 0) for _za in za])\n",
    "    \n",
    "    # making the plot\n",
    "    plt.rc('text', usetex=False)\n",
    "    plt.rc('font', family='serif')\n",
    "    fig = plt.figure(figsize=[6, 6])\n",
    "    plt.plot(fbins/1000, (e_noise + p_noise + s_noise)/gain, label='3DP + theory')\n",
    "    plt.plot(fbins/1000, spec, 'o', markersize=2, label='TNR')\n",
    "    plt.plot(fbins/1000, e_noise/gain,'--', label='electron')\n",
    "    plt.plot(fbins/1000, p_noise/gain, '-.', label='proton')\n",
    "    plt.plot(fbins/1000, s_noise/gain, '--', label='shot')\n",
    "    plt.xscale('log')\n",
    "    plt.yscale('log')\n",
    "    plt.xlim([4, 256])\n",
    "    plt.ylim([1e-18, 1e-10])\n",
    "    plt.xlabel(r'$f[kHz]$')\n",
    "    plt.ylabel(r'$V_r^2[V^2Hz^{-1}]$')\n",
    "    plt.title(time_string)\n",
    "    plt.legend(loc='best')\n",
    "    plt.annotate(texts, xy=(0.05, 0.05), xycoords='axes fraction', fontsize=10)\n",
    "    plt.show()\n",
    "    # save the figure\n",
    "    fig.savefig('survey/survey_plot/wind' + '-' + time_string +'.png', dpi=300)\n",
    "    # save calculation result\n",
    "    np.savez('survey/survey_data/wind' + '-' + time_string, \n",
    "             p_noise=p_noise, e_noise = e_noise, \n",
    "             s_noise = s_noise, gain = gain, za = za, zr= zr)"
   ]
  },
  {
   "cell_type": "code",
   "execution_count": 5,
   "id": "d6733e3b",
   "metadata": {},
   "outputs": [],
   "source": [
    "def sample_helper(index):\n",
    "    return sample(index, wind_data, mt, m_data)"
   ]
  },
  {
   "cell_type": "code",
   "execution_count": 6,
   "id": "8ee9fc6e",
   "metadata": {},
   "outputs": [
    {
     "name": "stdout",
     "output_type": "stream",
     "text": [
      "2157\n",
      "30\n",
      "3934\n",
      "5399\n",
      "%s function took %0.3f ms sample 500552.81114578247\n",
      "%s function took %0.3f ms sample 505554.9159049988\n",
      "%s function took %0.3f ms sample 626684.3929290771\n",
      "%s function took %0.3f ms sample 504313.8659000397\n",
      "7018\n",
      "11606\n",
      "13176\n",
      "8439\n",
      "%s function took %0.3f ms sample 660590.8620357513\n",
      "%s function took %0.3f ms sample 723120.9390163422\n",
      "%s function took %0.3f ms sample 530683.9349269867\n",
      "%s function took %0.3f ms sample 622495.0559139252\n",
      "18920\n",
      "17367\n",
      "15975\n",
      "%s function took %0.3f ms sample 505076.06315612793\n",
      "%s function took %0.3f ms sample 620689.1031265259\n",
      "%s function took %0.3f ms sample 583610.4781627655\n"
     ]
    }
   ],
   "source": [
    "from multiprocessing import Pool\n",
    "pool = Pool()\n",
    "pool.map(sample_helper, qualified[::60])\n",
    "pool.close()\n",
    "pool.join()"
   ]
  },
  {
   "cell_type": "markdown",
   "id": "dcc30259",
   "metadata": {},
   "source": [
    "### spectrum study"
   ]
  },
  {
   "cell_type": "code",
   "execution_count": 27,
   "id": "83bce5ba",
   "metadata": {},
   "outputs": [],
   "source": [
    "import numpy as np\n",
    "import mpmath as mp\n",
    "import matplotlib.pyplot as plt\n",
    "from scipy.io.idl import readsav\n",
    "from qtn.maxkappa import MaxKappa"
   ]
  },
  {
   "cell_type": "code",
   "execution_count": 2,
   "id": "b7ea6896",
   "metadata": {},
   "outputs": [],
   "source": [
    "dat=np.load('/Users/tongyuguang/Google Drive/research/QTN/Tong/qtn-proj/survey/survey_data/wind-1995-06-19-21:27:45.npz')"
   ]
  },
  {
   "cell_type": "code",
   "execution_count": 3,
   "id": "f6ef2a75",
   "metadata": {},
   "outputs": [
    {
     "data": {
      "text/plain": [
       "['p_noise', 'za', 's_noise', 'zr', 'gain', 'e_noise']"
      ]
     },
     "execution_count": 3,
     "metadata": {},
     "output_type": "execute_result"
    }
   ],
   "source": [
    "dat.files"
   ]
  },
  {
   "cell_type": "code",
   "execution_count": 19,
   "id": "41363327",
   "metadata": {},
   "outputs": [],
   "source": [
    "s_noise = dat['s_noise']\n",
    "e_noise = dat['e_noise']\n",
    "p_noise = dat['p_noise']\n",
    "gain = dat['gain']"
   ]
  },
  {
   "cell_type": "code",
   "execution_count": 4,
   "id": "d62033ce",
   "metadata": {},
   "outputs": [
    {
     "name": "stderr",
     "output_type": "stream",
     "text": [
      "/usr/local/lib/python3.4/site-packages/scipy/io/idl.py:167: UserWarning: warning: empty strings are now set to '' instead of None\n",
      "  warnings.warn(\"warning: empty strings are now set to '' instead of None\")\n"
     ]
    }
   ],
   "source": [
    "m_dat=readsav('/Users/tongyuguang/Google Drive/research/data/meudon_tnr/TNR_XY_ACE_19950619.sav')\n",
    "m_data=m_dat['data']\n",
    "mt = m_data['timeur8'][0]\n",
    "mtag = m_data['time'][0]"
   ]
  },
  {
   "cell_type": "code",
   "execution_count": 5,
   "id": "e49260f8",
   "metadata": {},
   "outputs": [],
   "source": [
    "spec = m_data['spectra'][0]\n",
    "spec = 10. ** (spec/10.)"
   ]
  },
  {
   "cell_type": "code",
   "execution_count": 6,
   "id": "3be19a70",
   "metadata": {},
   "outputs": [],
   "source": [
    "fbins = np.array([4000*2**((2*i+1)/32) for i in range(96)])"
   ]
  },
  {
   "cell_type": "code",
   "execution_count": 7,
   "id": "917d9e7f",
   "metadata": {},
   "outputs": [
    {
     "data": {
      "text/plain": [
       "b'19-JUN-1995, 21:27:45.744'"
      ]
     },
     "execution_count": 7,
     "metadata": {},
     "output_type": "execute_result"
    }
   ],
   "source": [
    "mtag[17367]"
   ]
  },
  {
   "cell_type": "code",
   "execution_count": 8,
   "id": "efd5355e",
   "metadata": {},
   "outputs": [],
   "source": [
    "def spec_avg(spec, i, width):\n",
    "    return np.average(spec[:, i-width:i+width+1], axis=1)"
   ]
  },
  {
   "cell_type": "code",
   "execution_count": 9,
   "id": "0142365b",
   "metadata": {},
   "outputs": [],
   "source": [
    "i = 17367\n",
    "plt.plot(fbins, spec[:, i])\n",
    "plt.plot(fbins[:32], spec[:32, i], 'o', markersize=4)\n",
    "plt.plot(fbins[33:64], spec[33:64, i], 'o', markersize=4)\n",
    "#plt.plot(fbins, spec[:, i+3])\n",
    "plt.xscale('log')\n",
    "plt.yscale('log')\n",
    "plt.show()"
   ]
  },
  {
   "cell_type": "code",
   "execution_count": 10,
   "id": "64852c3b",
   "metadata": {},
   "outputs": [],
   "source": [
    "ant_len = 50      # m (monopole) \n",
    "ant_rad = 1.9e-4  # m\n",
    "base_cap = 20e-12 # Fara\n",
    "fbins = np.array([4000*2**((2*i+1)/32) for i in range(96)])\n",
    "\n",
    "ne = 4.4+0.61+0.078\n",
    "vsw=7.03e5\n",
    "tc = 9.6\n",
    "tp = 32.42\n",
    "t = 34.74/9.6\n",
    "n = 0.026\n",
    "#fpe = 31.47e3\n",
    "k = 4.64"
   ]
  },
  {
   "cell_type": "code",
   "execution_count": 11,
   "id": "c6b85c3b",
   "metadata": {},
   "outputs": [],
   "source": [
    "p = MaxKappa(ant_len, ant_rad, base_cap)"
   ]
  },
  {
   "cell_type": "code",
   "execution_count": 21,
   "id": "f18a3628",
   "metadata": {},
   "outputs": [],
   "source": [
    "proton_noise_par = np.array([p.proton_parallel(f, ne, n, t, tp, tc, k, vsw) for f in fbins])\n",
    "proton_noise = np.array([p.proton(f, ne, n, t, tp, tc, k, vsw) for f in fbins])\n",
    "proton_avg = 0.5*proton_noise + 0.5*proton_noise_par"
   ]
  },
  {
   "cell_type": "code",
   "execution_count": null,
   "id": "1d9ac2d2",
   "metadata": {},
   "outputs": [],
   "source": []
  },
  {
   "cell_type": "code",
   "execution_count": 40,
   "id": "50c679a1",
   "metadata": {},
   "outputs": [],
   "source": [
    "fig = plt.figure(figsize=[6,6])\n",
    "plt.rc('text', usetex=True)\n",
    "plt.rc('font', family='serif')\n",
    "plt.plot(fbins, (s_noise + e_noise + proton_avg)/gain)\n",
    "plt.plot(fbins, (s_noise + e_noise + proton_noise)/gain)\n",
    "plt.plot(fbins, (s_noise + e_noise + proton_noise_par)/gain)\n",
    "plt.plot(fbins, spec[:, i])\n",
    "plt.xscale('log')\n",
    "plt.yscale('log')\n",
    "plt.xlim([4e3, 256e3])\n",
    "plt.ylim([1e-18, 1e-10])\n",
    "plt.annotate(\"{0}{1}\\n\".format(r'$\\sum x_i=$',5) + \"{0}{1}\".format(r'$\\sum x_i=$',5),xy=(0.05, 0.05), xycoords='axes fraction', fontsize=12)\n",
    "plt.show()"
   ]
  },
  {
   "cell_type": "code",
   "execution_count": 31,
   "id": "c9b09e3e",
   "metadata": {},
   "outputs": [
    {
     "data": {
      "text/plain": [
       "mpf('2.3979958211028557e-13')"
      ]
     },
     "execution_count": 31,
     "metadata": {},
     "output_type": "execute_result"
    }
   ],
   "source": [
    "p.electron_noise(fbins[37], ne, n, t, tp, tc, k, vsw)/1.35"
   ]
  },
  {
   "cell_type": "code",
   "execution_count": 37,
   "id": "af26915e",
   "metadata": {},
   "outputs": [],
   "source": [
    "mp.mp.dps = 20"
   ]
  },
  {
   "cell_type": "code",
   "execution_count": 34,
   "id": "11ad98ae",
   "metadata": {},
   "outputs": [
    {
     "data": {
      "text/plain": [
       "mpf('0.0000000000003237294380428087615010088418953885392668987')"
      ]
     },
     "execution_count": 34,
     "metadata": {},
     "output_type": "execute_result"
    }
   ],
   "source": [
    "p.electron_noise(fbins[37], ne, n, t, tp, tc, k, vsw)"
   ]
  },
  {
   "cell_type": "code",
   "execution_count": 38,
   "id": "6879cf83",
   "metadata": {},
   "outputs": [
    {
     "data": {
      "text/plain": [
       "mpf('2.1312746667667460975324e-14')"
      ]
     },
     "execution_count": 38,
     "metadata": {},
     "output_type": "execute_result"
    }
   ],
   "source": [
    "p.electron_noise(fbins[37]*0.99, ne, n, t, tp, tc, k, vsw)"
   ]
  },
  {
   "cell_type": "code",
   "execution_count": null,
   "id": "1973ca24",
   "metadata": {},
   "outputs": [],
   "source": []
  }
 ],
 "metadata": {
  "kernelspec": {
   "display_name": "Python 3 (ipykernel)",
   "language": "python",
   "name": "python3"
  },
  "language_info": {
   "codemirror_mode": {
    "name": "ipython",
    "version": 3
   },
   "file_extension": ".py",
   "mimetype": "text/x-python",
   "name": "python",
   "nbconvert_exporter": "python",
   "pygments_lexer": "ipython3",
   "version": "3.9.13"
  }
 },
 "nbformat": 4,
 "nbformat_minor": 1
}
