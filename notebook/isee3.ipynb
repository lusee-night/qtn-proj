{
 "cells": [
  {
   "cell_type": "code",
   "execution_count": 1,
   "id": "677cfcce",
   "metadata": {},
   "outputs": [],
   "source": [
    "import sys\n",
    "sys.path.append(\"..\")\n",
    "from qtn.bimax import BiMax\n",
    "from qtn.util import (boltzmann, emass, echarge, permittivity, cspeed)\n",
    "from qtn.util import ldeb\n",
    "import mpmath as mp\n",
    "import numpy as np\n",
    "import matplotlib.pyplot as plt\n",
    "%matplotlib inline"
   ]
  },
  {
   "cell_type": "markdown",
   "id": "17741ced",
   "metadata": {},
   "source": [
    "### Couturier et al. 1981 Fig. 3"
   ]
  },
  {
   "cell_type": "markdown",
   "id": "12a565ac",
   "metadata": {},
   "source": [
    "###### $l_{antenna}=45m$, $f_p=20KHz$, $T_c=10^5K$, $N_h/H_c=0.05$"
   ]
  },
  {
   "cell_type": "markdown",
   "id": "b6003ef1",
   "metadata": {},
   "source": [
    "###### $n_e = 4.96cm^{-3}$, $n_c=\\frac{20n_e}{21}=4.724cm^{-3}, l_{dc} = 10.04m$ Hence $$l_{ant}/l_{dc} = 45/10.04= 4.4821$$"
   ]
  },
  {
   "cell_type": "code",
   "execution_count": 2,
   "id": "86ef1fa7",
   "metadata": {},
   "outputs": [],
   "source": [
    "lrel = 4.4821\n",
    "tc = 1e5\n",
    "n = 0.05\n",
    "t = 1"
   ]
  },
  {
   "cell_type": "markdown",
   "id": "c4232b11",
   "metadata": {},
   "source": [
    "###### An instance of ISEE3 antenna in bi-maxwellian plasmas"
   ]
  },
  {
   "cell_type": "code",
   "execution_count": 3,
   "id": "b8770bff",
   "metadata": {},
   "outputs": [],
   "source": [
    "p = BiMax(45, 2e-4/45, 45e-12)"
   ]
  },
  {
   "cell_type": "code",
   "execution_count": 4,
   "id": "68a7bbd7",
   "metadata": {},
   "outputs": [],
   "source": [
    "wrelplot= (np.arange(9)+1)*0.1\n",
    "wrelplot = np.append(wrelplot, [.91, .93, .95, .96, .97, .98, .99, .995, 1.005, 1.01, 1.02, 1.03, 1.04, 1.05, 1.07, 1.09, 1.11, 1.13, 1.15, 1.17, 1.19])\n",
    "wrelplot = np.append(wrelplot, (np.arange(15) + 6) *0.2)"
   ]
  },
  {
   "cell_type": "code",
   "execution_count": 5,
   "id": "e2ed111e",
   "metadata": {},
   "outputs": [],
   "source": [
    "trelplot = [1, 1.75, 3.5, 7, 14, 28]"
   ]
  },
  {
   "cell_type": "code",
   "execution_count": 6,
   "id": "23be7b98",
   "metadata": {},
   "outputs": [
    {
     "ename": "AttributeError",
     "evalue": "'BiMax' object has no attribute 'gamma'",
     "output_type": "error",
     "traceback": [
      "\u001b[0;31m---------------------------------------------------------------------------\u001b[0m",
      "\u001b[0;31mAttributeError\u001b[0m                            Traceback (most recent call last)",
      "\u001b[0;32m/tmp/ipykernel_3901774/3334858926.py\u001b[0m in \u001b[0;36m<module>\u001b[0;34m\u001b[0m\n\u001b[0;32m----> 1\u001b[0;31m trans=np.array([np.array([p.gamma(wrel, lrel, n, t, tc) for wrel in wrelplot]) \n\u001b[0m\u001b[1;32m      2\u001b[0m           for t in trelplot])\n",
      "\u001b[0;32m/tmp/ipykernel_3901774/3334858926.py\u001b[0m in \u001b[0;36m<listcomp>\u001b[0;34m(.0)\u001b[0m\n\u001b[0;32m----> 1\u001b[0;31m trans=np.array([np.array([p.gamma(wrel, lrel, n, t, tc) for wrel in wrelplot]) \n\u001b[0m\u001b[1;32m      2\u001b[0m           for t in trelplot])\n",
      "\u001b[0;32m/tmp/ipykernel_3901774/3334858926.py\u001b[0m in \u001b[0;36m<listcomp>\u001b[0;34m(.0)\u001b[0m\n\u001b[0;32m----> 1\u001b[0;31m trans=np.array([np.array([p.gamma(wrel, lrel, n, t, tc) for wrel in wrelplot]) \n\u001b[0m\u001b[1;32m      2\u001b[0m           for t in trelplot])\n",
      "\u001b[0;31mAttributeError\u001b[0m: 'BiMax' object has no attribute 'gamma'"
     ]
    }
   ],
   "source": [
    "trans=np.array([np.array([p.gamma(wrel, lrel, n, t, tc) for wrel in wrelplot]) \n",
    "          for t in trelplot])"
   ]
  },
  {
   "cell_type": "code",
   "execution_count": null,
   "id": "9fc01b4b",
   "metadata": {},
   "outputs": [],
   "source": [
    "def helper(wrel, t):\n",
    "    \"\"\"\n",
    "    add precision control to bimax function.\n",
    "    \n",
    "    \"\"\"\n",
    "    if wrel > 1 and wrel < 1.2:\n",
    "        mp.mp.dps = 40\n",
    "    else:\n",
    "        mp.mp.dps = 20\n",
    "    return p.bimax(wrel, lrel, n, t, tc)"
   ]
  },
  {
   "cell_type": "code",
   "execution_count": null,
   "id": "8004b545",
   "metadata": {},
   "outputs": [],
   "source": [
    "noise=np.array([np.array([helper(wrel, t) for wrel in wrelplot]) \n",
    "          for t in trelplot])"
   ]
  },
  {
   "cell_type": "markdown",
   "id": "79372af5",
   "metadata": {},
   "source": [
    "###### Couturier et al. 1981 Fig. 3"
   ]
  },
  {
   "cell_type": "code",
   "execution_count": null,
   "id": "906cd472",
   "metadata": {},
   "outputs": [],
   "source": [
    "plt.rc('text', usetex=True)\n",
    "plt.rc('font', family='serif')\n",
    "fig = plt.figure(figsize=[6.9, 7.5])\n",
    "for i in range(6):\n",
    "    plt.plot(wrelplot, noise[i]*10**(i/6) / trans[i], \n",
    "             'o-', markersize=2,\n",
    "             label=r'$T_h/T_c=$'+' ' + str(trelplot[i]))\n",
    "plt.xscale('log')\n",
    "plt.yscale('log')\n",
    "plt.xlim([0.6, 4])\n",
    "plt.ylim([1e-15, 3e-12])\n",
    "plt.xlabel(r'$f/f_p$')\n",
    "plt.ylabel(r'$V_r^2[V^2Hz^{-1}]$')\n",
    "plt.title('Couturier et al. 1981 Fig 3')\n",
    "plt.legend(loc='best')\n",
    "plt.show()"
   ]
  },
  {
   "cell_type": "code",
   "execution_count": null,
   "id": "613c6c59",
   "metadata": {},
   "outputs": [],
   "source": [
    "fig.savefig('example.png', dpi=300)"
   ]
  },
  {
   "cell_type": "code",
   "execution_count": null,
   "id": "eab76dd4",
   "metadata": {},
   "outputs": [],
   "source": []
  }
 ],
 "metadata": {
  "kernelspec": {
   "display_name": "Python 3 (ipykernel)",
   "language": "python",
   "name": "python3"
  },
  "language_info": {
   "codemirror_mode": {
    "name": "ipython",
    "version": 3
   },
   "file_extension": ".py",
   "mimetype": "text/x-python",
   "name": "python",
   "nbconvert_exporter": "python",
   "pygments_lexer": "ipython3",
   "version": "3.9.13"
  }
 },
 "nbformat": 4,
 "nbformat_minor": 1
}
